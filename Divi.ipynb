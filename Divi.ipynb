{
 "cells": [
  {
   "cell_type": "markdown",
   "id": "32efb7ab",
   "metadata": {},
   "source": [
    "# Supply Chain Emissions Modeling Using Industry and Commodity Data (2010–2016)"
   ]
  },
  {
   "cell_type": "markdown",
   "id": "a7c1c6fc",
   "metadata": {},
   "source": [
    "Problem Statement:\n",
    "\n",
    "You have annual supply chain emission data from 2010–2016 categorized into industries and commodities. The goal is to develop a regression model that can predict the Supply Chain Emission Factors with Margins based on descriptive and quality metrics (substance, unit, reliability, temporal/geographical/technological/data collection correlations, etc.)."
   ]
  },
  {
   "cell_type": "markdown",
   "id": "118424af",
   "metadata": {},
   "source": [
    "# Step 1: Import Required Libraries"
   ]
  },
  {
   "cell_type": "code",
   "execution_count": 3,
   "id": "a2e58624",
   "metadata": {},
   "outputs": [],
   "source": [
    "\n",
    "import pandas as pd # data analysis\n",
    "import numpy as np  # for numerical data\n",
    "import seaborn as sns # data visualization advanced\n",
    "import matplotlib.pyplot as plt # basic\n",
    "\n",
    "from sklearn.model_selection import train_test_split, GridSearchCV\n",
    "from sklearn.preprocessing import LabelEncoder, StandardScaler # Feature Scaling \n",
    "from sklearn.ensemble import RandomForestRegressor  # numeric and categoric data together\n",
    "from sklearn.metrics import mean_squared_error, r2_score\n",
    "import joblib\n",
    "import os\n"
   ]
  },
  {
   "cell_type": "markdown",
   "id": "c670b39a",
   "metadata": {},
   "source": [
    "# Step 2: Load Dataset"
   ]
  },
  {
   "cell_type": "code",
   "execution_count": 8,
   "id": "3d7223e5",
   "metadata": {},
   "outputs": [],
   "source": [
    "import pandas as pd\n",
    "df=pd.read_excel(r\"C:\\Users\\murug\\Documents\\cleaned_dataset.xlsx\") # Replace with actual path\n",
    "years = range(2010, 2017)\n",
    "\n",
    "# df = pd.read_excel(r\"path_data.xlsx\")"
   ]
  },
  {
   "cell_type": "code",
   "execution_count": 4,
   "id": "aba2c82e",
   "metadata": {},
   "outputs": [
    {
     "data": {
      "text/plain": [
       "2010"
      ]
     },
     "execution_count": 4,
     "metadata": {},
     "output_type": "execute_result"
    }
   ],
   "source": [
    "years[0]"
   ]
  },
  {
   "cell_type": "code",
   "execution_count": 20,
   "id": "3739f73a",
   "metadata": {},
   "outputs": [
    {
     "data": {
      "text/html": [
       "<div>\n",
       "<style scoped>\n",
       "    .dataframe tbody tr th:only-of-type {\n",
       "        vertical-align: middle;\n",
       "    }\n",
       "\n",
       "    .dataframe tbody tr th {\n",
       "        vertical-align: top;\n",
       "    }\n",
       "\n",
       "    .dataframe thead th {\n",
       "        text-align: right;\n",
       "    }\n",
       "</style>\n",
       "<table border=\"1\" class=\"dataframe\">\n",
       "  <thead>\n",
       "    <tr style=\"text-align: right;\">\n",
       "      <th></th>\n",
       "      <th>Commodity Code</th>\n",
       "      <th>Commodity Name</th>\n",
       "      <th>Substance</th>\n",
       "      <th>Unit</th>\n",
       "      <th>Supply Chain Emission Factors without Margins</th>\n",
       "      <th>Margins of Supply Chain Emission Factors</th>\n",
       "      <th>Supply Chain Emission Factors with Margins</th>\n",
       "      <th>DQ ReliabilityScore of Factors without Margins</th>\n",
       "      <th>DQ TemporalCorrelation of Factors without Margins</th>\n",
       "      <th>DQ GeographicalCorrelation of Factors without Margins</th>\n",
       "      <th>DQ TechnologicalCorrelation of Factors without Margins</th>\n",
       "      <th>DQ DataCollection of Factors without Margins</th>\n",
       "      <th>Year</th>\n",
       "    </tr>\n",
       "  </thead>\n",
       "  <tbody>\n",
       "    <tr>\n",
       "      <th>0</th>\n",
       "      <td>111CA</td>\n",
       "      <td>Farms</td>\n",
       "      <td>carbon dioxide</td>\n",
       "      <td>kg/2018 USD, purchaser price</td>\n",
       "      <td>0.467</td>\n",
       "      <td>0.046</td>\n",
       "      <td>0.513</td>\n",
       "      <td>4</td>\n",
       "      <td>2</td>\n",
       "      <td>1</td>\n",
       "      <td>4</td>\n",
       "      <td>1</td>\n",
       "      <td>2010</td>\n",
       "    </tr>\n",
       "    <tr>\n",
       "      <th>1</th>\n",
       "      <td>111CA</td>\n",
       "      <td>Farms</td>\n",
       "      <td>methane</td>\n",
       "      <td>kg/2018 USD, purchaser price</td>\n",
       "      <td>0.025</td>\n",
       "      <td>0.000</td>\n",
       "      <td>0.026</td>\n",
       "      <td>3</td>\n",
       "      <td>2</td>\n",
       "      <td>1</td>\n",
       "      <td>1</td>\n",
       "      <td>1</td>\n",
       "      <td>2010</td>\n",
       "    </tr>\n",
       "    <tr>\n",
       "      <th>2</th>\n",
       "      <td>111CA</td>\n",
       "      <td>Farms</td>\n",
       "      <td>nitrous oxide</td>\n",
       "      <td>kg/2018 USD, purchaser price</td>\n",
       "      <td>0.002</td>\n",
       "      <td>0.000</td>\n",
       "      <td>0.002</td>\n",
       "      <td>4</td>\n",
       "      <td>2</td>\n",
       "      <td>1</td>\n",
       "      <td>4</td>\n",
       "      <td>1</td>\n",
       "      <td>2010</td>\n",
       "    </tr>\n",
       "    <tr>\n",
       "      <th>3</th>\n",
       "      <td>111CA</td>\n",
       "      <td>Farms</td>\n",
       "      <td>other GHGs</td>\n",
       "      <td>kg CO2e/2018 USD, purchaser price</td>\n",
       "      <td>0.004</td>\n",
       "      <td>0.000</td>\n",
       "      <td>0.004</td>\n",
       "      <td>4</td>\n",
       "      <td>2</td>\n",
       "      <td>1</td>\n",
       "      <td>4</td>\n",
       "      <td>1</td>\n",
       "      <td>2010</td>\n",
       "    </tr>\n",
       "    <tr>\n",
       "      <th>4</th>\n",
       "      <td>113FF</td>\n",
       "      <td>Forestry, fishing, and related activities</td>\n",
       "      <td>carbon dioxide</td>\n",
       "      <td>kg/2018 USD, purchaser price</td>\n",
       "      <td>0.199</td>\n",
       "      <td>0.024</td>\n",
       "      <td>0.223</td>\n",
       "      <td>4</td>\n",
       "      <td>2</td>\n",
       "      <td>1</td>\n",
       "      <td>4</td>\n",
       "      <td>1</td>\n",
       "      <td>2010</td>\n",
       "    </tr>\n",
       "  </tbody>\n",
       "</table>\n",
       "</div>"
      ],
      "text/plain": [
       "  Commodity Code                             Commodity Name       Substance  \\\n",
       "0          111CA                                      Farms  carbon dioxide   \n",
       "1          111CA                                      Farms         methane   \n",
       "2          111CA                                      Farms   nitrous oxide   \n",
       "3          111CA                                      Farms      other GHGs   \n",
       "4          113FF  Forestry, fishing, and related activities  carbon dioxide   \n",
       "\n",
       "                                Unit  \\\n",
       "0       kg/2018 USD, purchaser price   \n",
       "1       kg/2018 USD, purchaser price   \n",
       "2       kg/2018 USD, purchaser price   \n",
       "3  kg CO2e/2018 USD, purchaser price   \n",
       "4       kg/2018 USD, purchaser price   \n",
       "\n",
       "   Supply Chain Emission Factors without Margins  \\\n",
       "0                                          0.467   \n",
       "1                                          0.025   \n",
       "2                                          0.002   \n",
       "3                                          0.004   \n",
       "4                                          0.199   \n",
       "\n",
       "   Margins of Supply Chain Emission Factors  \\\n",
       "0                                     0.046   \n",
       "1                                     0.000   \n",
       "2                                     0.000   \n",
       "3                                     0.000   \n",
       "4                                     0.024   \n",
       "\n",
       "   Supply Chain Emission Factors with Margins  \\\n",
       "0                                       0.513   \n",
       "1                                       0.026   \n",
       "2                                       0.002   \n",
       "3                                       0.004   \n",
       "4                                       0.223   \n",
       "\n",
       "   DQ ReliabilityScore of Factors without Margins  \\\n",
       "0                                               4   \n",
       "1                                               3   \n",
       "2                                               4   \n",
       "3                                               4   \n",
       "4                                               4   \n",
       "\n",
       "   DQ TemporalCorrelation of Factors without Margins  \\\n",
       "0                                                  2   \n",
       "1                                                  2   \n",
       "2                                                  2   \n",
       "3                                                  2   \n",
       "4                                                  2   \n",
       "\n",
       "   DQ GeographicalCorrelation of Factors without Margins  \\\n",
       "0                                                  1       \n",
       "1                                                  1       \n",
       "2                                                  1       \n",
       "3                                                  1       \n",
       "4                                                  1       \n",
       "\n",
       "   DQ TechnologicalCorrelation of Factors without Margins  \\\n",
       "0                                                  4        \n",
       "1                                                  1        \n",
       "2                                                  4        \n",
       "3                                                  4        \n",
       "4                                                  4        \n",
       "\n",
       "   DQ DataCollection of Factors without Margins  Year  \n",
       "0                                             1  2010  \n",
       "1                                             1  2010  \n",
       "2                                             1  2010  \n",
       "3                                             1  2010  \n",
       "4                                             1  2010  "
      ]
     },
     "execution_count": 20,
     "metadata": {},
     "output_type": "execute_result"
    }
   ],
   "source": [
    "import pandas as pd\n",
    "\n",
    "# Your Excel file\n",
    "excel_file = r\"C:\\Users\\murug\\Documents\\cleaned_dataset.xlsx\"\n",
    "\n",
    "# Assume this is the year you're working with\n",
    "years = [2010]  # year[0] = 2010\n",
    "\n",
    "# Since the sheet is not named with the year, just use the real sheet name\n",
    "sheet_name = 'cleaned_dataset'\n",
    "\n",
    "# Load the sheet\n",
    "df = pd.read_excel(excel_file, sheet_name=sheet_name)\n",
    "\n",
    "# Optional: Add the year as a new column if you want to track it\n",
    "df['Year'] = years[0]\n",
    "\n",
    "# Show the first few rows\n",
    "df.head()\n",
    "\n",
    "\n"
   ]
  },
  {
   "cell_type": "code",
   "execution_count": 22,
   "id": "7fdba933-136f-4b6c-9afc-786130f035fd",
   "metadata": {},
   "outputs": [
    {
     "name": "stdout",
     "output_type": "stream",
     "text": [
      "['emission_factors_large']\n"
     ]
    }
   ],
   "source": [
    "import pandas as pd\n",
    "\n",
    "file_path = r\"C:\\Users\\murug\\Downloads\\emission_factors_large.xlsx\"\n",
    "xls = pd.ExcelFile(file_path)\n",
    "print(xls.sheet_names)\n"
   ]
  },
  {
   "cell_type": "code",
   "execution_count": 23,
   "id": "b3da39b5",
   "metadata": {},
   "outputs": [
    {
     "data": {
      "text/html": [
       "<div>\n",
       "<style scoped>\n",
       "    .dataframe tbody tr th:only-of-type {\n",
       "        vertical-align: middle;\n",
       "    }\n",
       "\n",
       "    .dataframe tbody tr th {\n",
       "        vertical-align: top;\n",
       "    }\n",
       "\n",
       "    .dataframe thead th {\n",
       "        text-align: right;\n",
       "    }\n",
       "</style>\n",
       "<table border=\"1\" class=\"dataframe\">\n",
       "  <thead>\n",
       "    <tr style=\"text-align: right;\">\n",
       "      <th></th>\n",
       "      <th>Industry Code</th>\n",
       "      <th>Industry Name</th>\n",
       "      <th>Substance</th>\n",
       "      <th>Unit</th>\n",
       "      <th>Supply Chain Emission Factors without Margins</th>\n",
       "      <th>Margins of Supply Chain Emission Factors</th>\n",
       "      <th>Supply Chain Emission Factors with Margins</th>\n",
       "      <th>Unnamed: 7</th>\n",
       "      <th>DQ ReliabilityScore of Factors without Margins</th>\n",
       "      <th>DQ TemporalCorrelation of Factors without Margins</th>\n",
       "      <th>DQ GeographicalCorrelation of Factors without Margins</th>\n",
       "      <th>DQ TechnologicalCorrelation of Factors without Margins</th>\n",
       "      <th>DQ DataCollection of Factors without Margins</th>\n",
       "    </tr>\n",
       "  </thead>\n",
       "  <tbody>\n",
       "    <tr>\n",
       "      <th>0</th>\n",
       "      <td>1111C0</td>\n",
       "      <td>Vegetable farming</td>\n",
       "      <td>other GHGs</td>\n",
       "      <td>kg CO2e/2018 USD, purchaser price</td>\n",
       "      <td>0.292</td>\n",
       "      <td>0.054</td>\n",
       "      <td>0.346</td>\n",
       "      <td>NaN</td>\n",
       "      <td>2</td>\n",
       "      <td>2</td>\n",
       "      <td>2</td>\n",
       "      <td>1</td>\n",
       "      <td>1</td>\n",
       "    </tr>\n",
       "    <tr>\n",
       "      <th>1</th>\n",
       "      <td>1111D0</td>\n",
       "      <td>Fruit farming</td>\n",
       "      <td>carbon dioxide</td>\n",
       "      <td>kg/2018 USD, purchaser price</td>\n",
       "      <td>0.682</td>\n",
       "      <td>0.001</td>\n",
       "      <td>0.683</td>\n",
       "      <td>NaN</td>\n",
       "      <td>2</td>\n",
       "      <td>5</td>\n",
       "      <td>4</td>\n",
       "      <td>2</td>\n",
       "      <td>5</td>\n",
       "    </tr>\n",
       "    <tr>\n",
       "      <th>2</th>\n",
       "      <td>1111A0</td>\n",
       "      <td>Oilseed farming</td>\n",
       "      <td>carbon dioxide</td>\n",
       "      <td>kg/2018 USD, purchaser price</td>\n",
       "      <td>0.698</td>\n",
       "      <td>0.005</td>\n",
       "      <td>0.703</td>\n",
       "      <td>NaN</td>\n",
       "      <td>5</td>\n",
       "      <td>4</td>\n",
       "      <td>2</td>\n",
       "      <td>1</td>\n",
       "      <td>1</td>\n",
       "    </tr>\n",
       "    <tr>\n",
       "      <th>3</th>\n",
       "      <td>1111C0</td>\n",
       "      <td>Vegetable farming</td>\n",
       "      <td>methane</td>\n",
       "      <td>kg CO2e/2018 USD, purchaser price</td>\n",
       "      <td>0.969</td>\n",
       "      <td>0.017</td>\n",
       "      <td>0.986</td>\n",
       "      <td>NaN</td>\n",
       "      <td>3</td>\n",
       "      <td>4</td>\n",
       "      <td>1</td>\n",
       "      <td>2</td>\n",
       "      <td>3</td>\n",
       "    </tr>\n",
       "    <tr>\n",
       "      <th>4</th>\n",
       "      <td>1111C0</td>\n",
       "      <td>Vegetable farming</td>\n",
       "      <td>nitrous oxide</td>\n",
       "      <td>kg/2018 USD, purchaser price</td>\n",
       "      <td>0.725</td>\n",
       "      <td>0.025</td>\n",
       "      <td>0.750</td>\n",
       "      <td>NaN</td>\n",
       "      <td>3</td>\n",
       "      <td>2</td>\n",
       "      <td>3</td>\n",
       "      <td>4</td>\n",
       "      <td>5</td>\n",
       "    </tr>\n",
       "  </tbody>\n",
       "</table>\n",
       "</div>"
      ],
      "text/plain": [
       "  Industry Code      Industry Name       Substance  \\\n",
       "0        1111C0  Vegetable farming      other GHGs   \n",
       "1        1111D0      Fruit farming  carbon dioxide   \n",
       "2        1111A0    Oilseed farming  carbon dioxide   \n",
       "3        1111C0  Vegetable farming         methane   \n",
       "4        1111C0  Vegetable farming   nitrous oxide   \n",
       "\n",
       "                                Unit  \\\n",
       "0  kg CO2e/2018 USD, purchaser price   \n",
       "1       kg/2018 USD, purchaser price   \n",
       "2       kg/2018 USD, purchaser price   \n",
       "3  kg CO2e/2018 USD, purchaser price   \n",
       "4       kg/2018 USD, purchaser price   \n",
       "\n",
       "   Supply Chain Emission Factors without Margins  \\\n",
       "0                                          0.292   \n",
       "1                                          0.682   \n",
       "2                                          0.698   \n",
       "3                                          0.969   \n",
       "4                                          0.725   \n",
       "\n",
       "   Margins of Supply Chain Emission Factors  \\\n",
       "0                                     0.054   \n",
       "1                                     0.001   \n",
       "2                                     0.005   \n",
       "3                                     0.017   \n",
       "4                                     0.025   \n",
       "\n",
       "   Supply Chain Emission Factors with Margins  Unnamed: 7  \\\n",
       "0                                       0.346         NaN   \n",
       "1                                       0.683         NaN   \n",
       "2                                       0.703         NaN   \n",
       "3                                       0.986         NaN   \n",
       "4                                       0.750         NaN   \n",
       "\n",
       "   DQ ReliabilityScore of Factors without Margins  \\\n",
       "0                                               2   \n",
       "1                                               2   \n",
       "2                                               5   \n",
       "3                                               3   \n",
       "4                                               3   \n",
       "\n",
       "   DQ TemporalCorrelation of Factors without Margins  \\\n",
       "0                                                  2   \n",
       "1                                                  5   \n",
       "2                                                  4   \n",
       "3                                                  4   \n",
       "4                                                  2   \n",
       "\n",
       "   DQ GeographicalCorrelation of Factors without Margins  \\\n",
       "0                                                  2       \n",
       "1                                                  4       \n",
       "2                                                  2       \n",
       "3                                                  1       \n",
       "4                                                  3       \n",
       "\n",
       "   DQ TechnologicalCorrelation of Factors without Margins  \\\n",
       "0                                                  1        \n",
       "1                                                  2        \n",
       "2                                                  1        \n",
       "3                                                  2        \n",
       "4                                                  4        \n",
       "\n",
       "   DQ DataCollection of Factors without Margins  \n",
       "0                                             1  \n",
       "1                                             5  \n",
       "2                                             1  \n",
       "3                                             3  \n",
       "4                                             5  "
      ]
     },
     "execution_count": 23,
     "metadata": {},
     "output_type": "execute_result"
    }
   ],
   "source": [
    "import pandas as pd\n",
    "\n",
    "file_path = r\"C:\\Users\\murug\\Downloads\\emission_factors_large.xlsx\"\n",
    "df_2 = pd.read_excel(file_path, sheet_name='emission_factors_large')\n",
    "df_2.head()\n"
   ]
  },
  {
   "cell_type": "code",
   "execution_count": 26,
   "id": "464213c7",
   "metadata": {},
   "outputs": [],
   "source": [
    "years = [2010]  # If you still want to track the year\n",
    "\n",
    "all_data = []\n",
    "\n",
    "try:\n",
    "    df_com = pd.read_excel(excel_file, sheet_name='cleaned_dataset')\n",
    "    df_ind = pd.read_excel(r\"C:\\Users\\murug\\Downloads\\emission_factors_large.xlsx\", sheet_name='emission_factors_large')\n",
    "    \n",
    "    df_com['Source'] = 'Commodity'\n",
    "    df_ind['Source'] = 'Industry'\n",
    "    df_com['Year'] = df_ind['Year'] = years[0]  # or 2010\n",
    "\n",
    "    df_com.columns = df_com.columns.str.strip()\n",
    "    df_ind.columns = df_ind.columns.str.strip()\n",
    "\n",
    "    df_com.rename(columns={\n",
    "        'Commodity Code': 'Code',\n",
    "        'Commodity Name': 'Name'\n",
    "    }, inplace=True)\n",
    "    \n",
    "    df_ind.rename(columns={\n",
    "        'Industry Code': 'Code',\n",
    "        'Industry Name': 'Name'\n",
    "    }, inplace=True)\n",
    "\n",
    "    all_data.append(pd.concat([df_com, df_ind], ignore_index=True))\n",
    "\n",
    "except Exception as e:\n",
    "    print(f\"Error: {e}\")\n"
   ]
  },
  {
   "cell_type": "code",
   "execution_count": 27,
   "id": "d99bcf77",
   "metadata": {},
   "outputs": [
    {
     "data": {
      "text/html": [
       "<div>\n",
       "<style scoped>\n",
       "    .dataframe tbody tr th:only-of-type {\n",
       "        vertical-align: middle;\n",
       "    }\n",
       "\n",
       "    .dataframe tbody tr th {\n",
       "        vertical-align: top;\n",
       "    }\n",
       "\n",
       "    .dataframe thead th {\n",
       "        text-align: right;\n",
       "    }\n",
       "</style>\n",
       "<table border=\"1\" class=\"dataframe\">\n",
       "  <thead>\n",
       "    <tr style=\"text-align: right;\">\n",
       "      <th></th>\n",
       "      <th>Code</th>\n",
       "      <th>Name</th>\n",
       "      <th>Substance</th>\n",
       "      <th>Unit</th>\n",
       "      <th>Supply Chain Emission Factors without Margins</th>\n",
       "      <th>Margins of Supply Chain Emission Factors</th>\n",
       "      <th>Supply Chain Emission Factors with Margins</th>\n",
       "      <th>DQ ReliabilityScore of Factors without Margins</th>\n",
       "      <th>DQ TemporalCorrelation of Factors without Margins</th>\n",
       "      <th>DQ GeographicalCorrelation of Factors without Margins</th>\n",
       "      <th>DQ TechnologicalCorrelation of Factors without Margins</th>\n",
       "      <th>DQ DataCollection of Factors without Margins</th>\n",
       "      <th>Source</th>\n",
       "      <th>Year</th>\n",
       "      <th>Unnamed: 7</th>\n",
       "    </tr>\n",
       "  </thead>\n",
       "  <tbody>\n",
       "    <tr>\n",
       "      <th>0</th>\n",
       "      <td>111CA</td>\n",
       "      <td>Farms</td>\n",
       "      <td>carbon dioxide</td>\n",
       "      <td>kg/2018 USD, purchaser price</td>\n",
       "      <td>0.467</td>\n",
       "      <td>0.046</td>\n",
       "      <td>0.513</td>\n",
       "      <td>4</td>\n",
       "      <td>2</td>\n",
       "      <td>1</td>\n",
       "      <td>4</td>\n",
       "      <td>1</td>\n",
       "      <td>Commodity</td>\n",
       "      <td>2010</td>\n",
       "      <td>NaN</td>\n",
       "    </tr>\n",
       "    <tr>\n",
       "      <th>1</th>\n",
       "      <td>111CA</td>\n",
       "      <td>Farms</td>\n",
       "      <td>methane</td>\n",
       "      <td>kg/2018 USD, purchaser price</td>\n",
       "      <td>0.025</td>\n",
       "      <td>0.000</td>\n",
       "      <td>0.026</td>\n",
       "      <td>3</td>\n",
       "      <td>2</td>\n",
       "      <td>1</td>\n",
       "      <td>1</td>\n",
       "      <td>1</td>\n",
       "      <td>Commodity</td>\n",
       "      <td>2010</td>\n",
       "      <td>NaN</td>\n",
       "    </tr>\n",
       "    <tr>\n",
       "      <th>2</th>\n",
       "      <td>111CA</td>\n",
       "      <td>Farms</td>\n",
       "      <td>nitrous oxide</td>\n",
       "      <td>kg/2018 USD, purchaser price</td>\n",
       "      <td>0.002</td>\n",
       "      <td>0.000</td>\n",
       "      <td>0.002</td>\n",
       "      <td>4</td>\n",
       "      <td>2</td>\n",
       "      <td>1</td>\n",
       "      <td>4</td>\n",
       "      <td>1</td>\n",
       "      <td>Commodity</td>\n",
       "      <td>2010</td>\n",
       "      <td>NaN</td>\n",
       "    </tr>\n",
       "    <tr>\n",
       "      <th>3</th>\n",
       "      <td>111CA</td>\n",
       "      <td>Farms</td>\n",
       "      <td>other GHGs</td>\n",
       "      <td>kg CO2e/2018 USD, purchaser price</td>\n",
       "      <td>0.004</td>\n",
       "      <td>0.000</td>\n",
       "      <td>0.004</td>\n",
       "      <td>4</td>\n",
       "      <td>2</td>\n",
       "      <td>1</td>\n",
       "      <td>4</td>\n",
       "      <td>1</td>\n",
       "      <td>Commodity</td>\n",
       "      <td>2010</td>\n",
       "      <td>NaN</td>\n",
       "    </tr>\n",
       "    <tr>\n",
       "      <th>4</th>\n",
       "      <td>113FF</td>\n",
       "      <td>Forestry, fishing, and related activities</td>\n",
       "      <td>carbon dioxide</td>\n",
       "      <td>kg/2018 USD, purchaser price</td>\n",
       "      <td>0.199</td>\n",
       "      <td>0.024</td>\n",
       "      <td>0.223</td>\n",
       "      <td>4</td>\n",
       "      <td>2</td>\n",
       "      <td>1</td>\n",
       "      <td>4</td>\n",
       "      <td>1</td>\n",
       "      <td>Commodity</td>\n",
       "      <td>2010</td>\n",
       "      <td>NaN</td>\n",
       "    </tr>\n",
       "  </tbody>\n",
       "</table>\n",
       "</div>"
      ],
      "text/plain": [
       "    Code                                       Name       Substance  \\\n",
       "0  111CA                                      Farms  carbon dioxide   \n",
       "1  111CA                                      Farms         methane   \n",
       "2  111CA                                      Farms   nitrous oxide   \n",
       "3  111CA                                      Farms      other GHGs   \n",
       "4  113FF  Forestry, fishing, and related activities  carbon dioxide   \n",
       "\n",
       "                                Unit  \\\n",
       "0       kg/2018 USD, purchaser price   \n",
       "1       kg/2018 USD, purchaser price   \n",
       "2       kg/2018 USD, purchaser price   \n",
       "3  kg CO2e/2018 USD, purchaser price   \n",
       "4       kg/2018 USD, purchaser price   \n",
       "\n",
       "   Supply Chain Emission Factors without Margins  \\\n",
       "0                                          0.467   \n",
       "1                                          0.025   \n",
       "2                                          0.002   \n",
       "3                                          0.004   \n",
       "4                                          0.199   \n",
       "\n",
       "   Margins of Supply Chain Emission Factors  \\\n",
       "0                                     0.046   \n",
       "1                                     0.000   \n",
       "2                                     0.000   \n",
       "3                                     0.000   \n",
       "4                                     0.024   \n",
       "\n",
       "   Supply Chain Emission Factors with Margins  \\\n",
       "0                                       0.513   \n",
       "1                                       0.026   \n",
       "2                                       0.002   \n",
       "3                                       0.004   \n",
       "4                                       0.223   \n",
       "\n",
       "   DQ ReliabilityScore of Factors without Margins  \\\n",
       "0                                               4   \n",
       "1                                               3   \n",
       "2                                               4   \n",
       "3                                               4   \n",
       "4                                               4   \n",
       "\n",
       "   DQ TemporalCorrelation of Factors without Margins  \\\n",
       "0                                                  2   \n",
       "1                                                  2   \n",
       "2                                                  2   \n",
       "3                                                  2   \n",
       "4                                                  2   \n",
       "\n",
       "   DQ GeographicalCorrelation of Factors without Margins  \\\n",
       "0                                                  1       \n",
       "1                                                  1       \n",
       "2                                                  1       \n",
       "3                                                  1       \n",
       "4                                                  1       \n",
       "\n",
       "   DQ TechnologicalCorrelation of Factors without Margins  \\\n",
       "0                                                  4        \n",
       "1                                                  1        \n",
       "2                                                  4        \n",
       "3                                                  4        \n",
       "4                                                  4        \n",
       "\n",
       "   DQ DataCollection of Factors without Margins     Source  Year  Unnamed: 7  \n",
       "0                                             1  Commodity  2010         NaN  \n",
       "1                                             1  Commodity  2010         NaN  \n",
       "2                                             1  Commodity  2010         NaN  \n",
       "3                                             1  Commodity  2010         NaN  \n",
       "4                                             1  Commodity  2010         NaN  "
      ]
     },
     "execution_count": 27,
     "metadata": {},
     "output_type": "execute_result"
    }
   ],
   "source": [
    "df = pd.concat(all_data, ignore_index=True)\n",
    "df.head()"
   ]
  },
  {
   "cell_type": "markdown",
   "id": "12443c98",
   "metadata": {},
   "source": [
    "# Step 3: Data Preprocessing"
   ]
  },
  {
   "cell_type": "code",
   "execution_count": 28,
   "id": "0912c587",
   "metadata": {},
   "outputs": [
    {
     "data": {
      "text/plain": [
       "Index(['Code', 'Name', 'Substance', 'Unit',\n",
       "       'Supply Chain Emission Factors without Margins',\n",
       "       'Margins of Supply Chain Emission Factors',\n",
       "       'Supply Chain Emission Factors with Margins',\n",
       "       'DQ ReliabilityScore of Factors without Margins',\n",
       "       'DQ TemporalCorrelation of Factors without Margins',\n",
       "       'DQ GeographicalCorrelation of Factors without Margins',\n",
       "       'DQ TechnologicalCorrelation of Factors without Margins',\n",
       "       'DQ DataCollection of Factors without Margins', 'Source', 'Year',\n",
       "       'Unnamed: 7'],\n",
       "      dtype='object')"
      ]
     },
     "execution_count": 28,
     "metadata": {},
     "output_type": "execute_result"
    }
   ],
   "source": [
    "df.columns"
   ]
  },
  {
   "cell_type": "code",
   "execution_count": 29,
   "id": "7ced9ceb",
   "metadata": {},
   "outputs": [],
   "source": [
    "# As there is no data avaialble in Unnamed coulmn so we will drop the column\n",
    "df.drop(columns=['Unnamed: 7'],inplace=True)"
   ]
  },
  {
   "cell_type": "code",
   "execution_count": 30,
   "id": "d4adb54b",
   "metadata": {},
   "outputs": [
    {
     "data": {
      "text/plain": [
       "Index(['Code', 'Name', 'Substance', 'Unit',\n",
       "       'Supply Chain Emission Factors without Margins',\n",
       "       'Margins of Supply Chain Emission Factors',\n",
       "       'Supply Chain Emission Factors with Margins',\n",
       "       'DQ ReliabilityScore of Factors without Margins',\n",
       "       'DQ TemporalCorrelation of Factors without Margins',\n",
       "       'DQ GeographicalCorrelation of Factors without Margins',\n",
       "       'DQ TechnologicalCorrelation of Factors without Margins',\n",
       "       'DQ DataCollection of Factors without Margins', 'Source', 'Year'],\n",
       "      dtype='object')"
      ]
     },
     "execution_count": 30,
     "metadata": {},
     "output_type": "execute_result"
    }
   ],
   "source": [
    "df.columns"
   ]
  },
  {
   "cell_type": "code",
   "execution_count": 31,
   "id": "c48cbbe3",
   "metadata": {},
   "outputs": [
    {
     "name": "stdout",
     "output_type": "stream",
     "text": [
      "<class 'pandas.core.frame.DataFrame'>\n",
      "RangeIndex: 1264 entries, 0 to 1263\n",
      "Data columns (total 14 columns):\n",
      " #   Column                                                  Non-Null Count  Dtype  \n",
      "---  ------                                                  --------------  -----  \n",
      " 0   Code                                                    1264 non-null   object \n",
      " 1   Name                                                    1264 non-null   object \n",
      " 2   Substance                                               1264 non-null   object \n",
      " 3   Unit                                                    1264 non-null   object \n",
      " 4   Supply Chain Emission Factors without Margins           1264 non-null   float64\n",
      " 5   Margins of Supply Chain Emission Factors                1264 non-null   float64\n",
      " 6   Supply Chain Emission Factors with Margins              1264 non-null   float64\n",
      " 7   DQ ReliabilityScore of Factors without Margins          1264 non-null   int64  \n",
      " 8   DQ TemporalCorrelation of Factors without Margins       1264 non-null   int64  \n",
      " 9   DQ GeographicalCorrelation of Factors without Margins   1264 non-null   int64  \n",
      " 10  DQ TechnologicalCorrelation of Factors without Margins  1264 non-null   int64  \n",
      " 11  DQ DataCollection of Factors without Margins            1264 non-null   int64  \n",
      " 12  Source                                                  1264 non-null   object \n",
      " 13  Year                                                    1264 non-null   int64  \n",
      "dtypes: float64(3), int64(6), object(5)\n",
      "memory usage: 138.4+ KB\n",
      "None\n"
     ]
    }
   ],
   "source": [
    "print(df.info())"
   ]
  },
  {
   "cell_type": "code",
   "execution_count": 32,
   "id": "bc6edbcd",
   "metadata": {},
   "outputs": [
    {
     "data": {
      "text/html": [
       "<div>\n",
       "<style scoped>\n",
       "    .dataframe tbody tr th:only-of-type {\n",
       "        vertical-align: middle;\n",
       "    }\n",
       "\n",
       "    .dataframe tbody tr th {\n",
       "        vertical-align: top;\n",
       "    }\n",
       "\n",
       "    .dataframe thead th {\n",
       "        text-align: right;\n",
       "    }\n",
       "</style>\n",
       "<table border=\"1\" class=\"dataframe\">\n",
       "  <thead>\n",
       "    <tr style=\"text-align: right;\">\n",
       "      <th></th>\n",
       "      <th>count</th>\n",
       "      <th>mean</th>\n",
       "      <th>std</th>\n",
       "      <th>min</th>\n",
       "      <th>25%</th>\n",
       "      <th>50%</th>\n",
       "      <th>75%</th>\n",
       "      <th>max</th>\n",
       "    </tr>\n",
       "  </thead>\n",
       "  <tbody>\n",
       "    <tr>\n",
       "      <th>Supply Chain Emission Factors without Margins</th>\n",
       "      <td>1264.0</td>\n",
       "      <td>0.403556</td>\n",
       "      <td>0.323984</td>\n",
       "      <td>0.0</td>\n",
       "      <td>0.10725</td>\n",
       "      <td>0.3655</td>\n",
       "      <td>0.6685</td>\n",
       "      <td>2.884</td>\n",
       "    </tr>\n",
       "    <tr>\n",
       "      <th>Margins of Supply Chain Emission Factors</th>\n",
       "      <td>1264.0</td>\n",
       "      <td>0.041419</td>\n",
       "      <td>0.033362</td>\n",
       "      <td>0.0</td>\n",
       "      <td>0.01000</td>\n",
       "      <td>0.0390</td>\n",
       "      <td>0.0700</td>\n",
       "      <td>0.305</td>\n",
       "    </tr>\n",
       "    <tr>\n",
       "      <th>Supply Chain Emission Factors with Margins</th>\n",
       "      <td>1264.0</td>\n",
       "      <td>0.444971</td>\n",
       "      <td>0.336094</td>\n",
       "      <td>0.0</td>\n",
       "      <td>0.14775</td>\n",
       "      <td>0.4095</td>\n",
       "      <td>0.7200</td>\n",
       "      <td>2.884</td>\n",
       "    </tr>\n",
       "    <tr>\n",
       "      <th>DQ ReliabilityScore of Factors without Margins</th>\n",
       "      <td>1264.0</td>\n",
       "      <td>3.009494</td>\n",
       "      <td>1.287582</td>\n",
       "      <td>1.0</td>\n",
       "      <td>2.00000</td>\n",
       "      <td>3.0000</td>\n",
       "      <td>4.0000</td>\n",
       "      <td>5.000</td>\n",
       "    </tr>\n",
       "    <tr>\n",
       "      <th>DQ TemporalCorrelation of Factors without Margins</th>\n",
       "      <td>1264.0</td>\n",
       "      <td>2.771361</td>\n",
       "      <td>1.312864</td>\n",
       "      <td>1.0</td>\n",
       "      <td>2.00000</td>\n",
       "      <td>2.0000</td>\n",
       "      <td>4.0000</td>\n",
       "      <td>5.000</td>\n",
       "    </tr>\n",
       "    <tr>\n",
       "      <th>DQ GeographicalCorrelation of Factors without Margins</th>\n",
       "      <td>1264.0</td>\n",
       "      <td>2.599684</td>\n",
       "      <td>1.497805</td>\n",
       "      <td>1.0</td>\n",
       "      <td>1.00000</td>\n",
       "      <td>2.0000</td>\n",
       "      <td>4.0000</td>\n",
       "      <td>5.000</td>\n",
       "    </tr>\n",
       "    <tr>\n",
       "      <th>DQ TechnologicalCorrelation of Factors without Margins</th>\n",
       "      <td>1264.0</td>\n",
       "      <td>2.929589</td>\n",
       "      <td>1.378127</td>\n",
       "      <td>1.0</td>\n",
       "      <td>2.00000</td>\n",
       "      <td>3.0000</td>\n",
       "      <td>4.0000</td>\n",
       "      <td>5.000</td>\n",
       "    </tr>\n",
       "    <tr>\n",
       "      <th>DQ DataCollection of Factors without Margins</th>\n",
       "      <td>1264.0</td>\n",
       "      <td>2.571203</td>\n",
       "      <td>1.487236</td>\n",
       "      <td>1.0</td>\n",
       "      <td>1.00000</td>\n",
       "      <td>2.0000</td>\n",
       "      <td>4.0000</td>\n",
       "      <td>5.000</td>\n",
       "    </tr>\n",
       "    <tr>\n",
       "      <th>Year</th>\n",
       "      <td>1264.0</td>\n",
       "      <td>2010.000000</td>\n",
       "      <td>0.000000</td>\n",
       "      <td>2010.0</td>\n",
       "      <td>2010.00000</td>\n",
       "      <td>2010.0000</td>\n",
       "      <td>2010.0000</td>\n",
       "      <td>2010.000</td>\n",
       "    </tr>\n",
       "  </tbody>\n",
       "</table>\n",
       "</div>"
      ],
      "text/plain": [
       "                                                     count         mean  \\\n",
       "Supply Chain Emission Factors without Margins       1264.0     0.403556   \n",
       "Margins of Supply Chain Emission Factors            1264.0     0.041419   \n",
       "Supply Chain Emission Factors with Margins          1264.0     0.444971   \n",
       "DQ ReliabilityScore of Factors without Margins      1264.0     3.009494   \n",
       "DQ TemporalCorrelation of Factors without Margins   1264.0     2.771361   \n",
       "DQ GeographicalCorrelation of Factors without M...  1264.0     2.599684   \n",
       "DQ TechnologicalCorrelation of Factors without ...  1264.0     2.929589   \n",
       "DQ DataCollection of Factors without Margins        1264.0     2.571203   \n",
       "Year                                                1264.0  2010.000000   \n",
       "\n",
       "                                                         std     min  \\\n",
       "Supply Chain Emission Factors without Margins       0.323984     0.0   \n",
       "Margins of Supply Chain Emission Factors            0.033362     0.0   \n",
       "Supply Chain Emission Factors with Margins          0.336094     0.0   \n",
       "DQ ReliabilityScore of Factors without Margins      1.287582     1.0   \n",
       "DQ TemporalCorrelation of Factors without Margins   1.312864     1.0   \n",
       "DQ GeographicalCorrelation of Factors without M...  1.497805     1.0   \n",
       "DQ TechnologicalCorrelation of Factors without ...  1.378127     1.0   \n",
       "DQ DataCollection of Factors without Margins        1.487236     1.0   \n",
       "Year                                                0.000000  2010.0   \n",
       "\n",
       "                                                           25%        50%  \\\n",
       "Supply Chain Emission Factors without Margins          0.10725     0.3655   \n",
       "Margins of Supply Chain Emission Factors               0.01000     0.0390   \n",
       "Supply Chain Emission Factors with Margins             0.14775     0.4095   \n",
       "DQ ReliabilityScore of Factors without Margins         2.00000     3.0000   \n",
       "DQ TemporalCorrelation of Factors without Margins      2.00000     2.0000   \n",
       "DQ GeographicalCorrelation of Factors without M...     1.00000     2.0000   \n",
       "DQ TechnologicalCorrelation of Factors without ...     2.00000     3.0000   \n",
       "DQ DataCollection of Factors without Margins           1.00000     2.0000   \n",
       "Year                                                2010.00000  2010.0000   \n",
       "\n",
       "                                                          75%       max  \n",
       "Supply Chain Emission Factors without Margins          0.6685     2.884  \n",
       "Margins of Supply Chain Emission Factors               0.0700     0.305  \n",
       "Supply Chain Emission Factors with Margins             0.7200     2.884  \n",
       "DQ ReliabilityScore of Factors without Margins         4.0000     5.000  \n",
       "DQ TemporalCorrelation of Factors without Margins      4.0000     5.000  \n",
       "DQ GeographicalCorrelation of Factors without M...     4.0000     5.000  \n",
       "DQ TechnologicalCorrelation of Factors without ...     4.0000     5.000  \n",
       "DQ DataCollection of Factors without Margins           4.0000     5.000  \n",
       "Year                                                2010.0000  2010.000  "
      ]
     },
     "execution_count": 32,
     "metadata": {},
     "output_type": "execute_result"
    }
   ],
   "source": [
    "df.describe().T"
   ]
  },
  {
   "cell_type": "code",
   "execution_count": 33,
   "id": "f1b30be9",
   "metadata": {},
   "outputs": [
    {
     "data": {
      "text/plain": [
       "Code                                                      0\n",
       "Name                                                      0\n",
       "Substance                                                 0\n",
       "Unit                                                      0\n",
       "Supply Chain Emission Factors without Margins             0\n",
       "Margins of Supply Chain Emission Factors                  0\n",
       "Supply Chain Emission Factors with Margins                0\n",
       "DQ ReliabilityScore of Factors without Margins            0\n",
       "DQ TemporalCorrelation of Factors without Margins         0\n",
       "DQ GeographicalCorrelation of Factors without Margins     0\n",
       "DQ TechnologicalCorrelation of Factors without Margins    0\n",
       "DQ DataCollection of Factors without Margins              0\n",
       "Source                                                    0\n",
       "Year                                                      0\n",
       "dtype: int64"
      ]
     },
     "execution_count": 33,
     "metadata": {},
     "output_type": "execute_result"
    }
   ],
   "source": [
    "df.isnull().sum()"
   ]
  },
  {
   "cell_type": "code",
   "execution_count": 35,
   "id": "ccf7fbe1",
   "metadata": {},
   "outputs": [
    {
     "data": {
      "image/png": "[encoded data removed]",
      "text/plain": [
       "<Figure size 1000x600 with 1 Axes>"
      ]
     },
     "metadata": {},
     "output_type": "display_data"
    }
   ],
   "source": [
    "# Visualize distribution\n",
    "import seaborn as sns\n",
    "import matplotlib.pyplot as plt\n",
    "\n",
    "# Drop NaN values from the column to avoid issues\n",
    "data = df['Supply Chain Emission Factors with Margins'].dropna()\n",
    "\n",
    "# Plot the histogram\n",
    "plt.figure(figsize=(10, 6))\n",
    "sns.histplot(data, bins=50, kde=True, color='skyblue')\n",
    "plt.title('Target Variable Distribution')\n",
    "plt.xlabel('Supply Chain Emission Factors with Margins')\n",
    "plt.ylabel('Frequency')\n",
    "plt.grid(True)\n",
    "plt.show()\n"
   ]
  },
  {
   "cell_type": "code",
   "execution_count": 36,
   "id": "d637be90",
   "metadata": {},
   "outputs": [
    {
     "name": "stdout",
     "output_type": "stream",
     "text": [
      "Substance\n",
      "carbon dioxide    340\n",
      "other GHGs        322\n",
      "methane           303\n",
      "nitrous oxide     299\n",
      "Name: count, dtype: int64\n"
     ]
    }
   ],
   "source": [
    "# Check categorical variables\n",
    "print(df['Substance'].value_counts())"
   ]
  },
  {
   "cell_type": "code",
   "execution_count": 37,
   "id": "8ff1fc9d",
   "metadata": {},
   "outputs": [
    {
     "name": "stdout",
     "output_type": "stream",
     "text": [
      "Unit\n",
      "kg/2018 USD, purchaser price         705\n",
      "kg CO2e/2018 USD, purchaser price    559\n",
      "Name: count, dtype: int64\n"
     ]
    }
   ],
   "source": [
    "print(df['Unit'].value_counts())"
   ]
  },
  {
   "cell_type": "code",
   "execution_count": 38,
   "id": "fc83fed6",
   "metadata": {},
   "outputs": [
    {
     "name": "stdout",
     "output_type": "stream",
     "text": [
      "Source\n",
      "Industry     1000\n",
      "Commodity     264\n",
      "Name: count, dtype: int64\n"
     ]
    }
   ],
   "source": [
    "print(df['Source'].value_counts())"
   ]
  },
  {
   "cell_type": "code",
   "execution_count": 39,
   "id": "e93721db",
   "metadata": {},
   "outputs": [
    {
     "data": {
      "text/plain": [
       "array(['carbon dioxide', 'methane', 'nitrous oxide', 'other GHGs'],\n",
       "      dtype=object)"
      ]
     },
     "execution_count": 39,
     "metadata": {},
     "output_type": "execute_result"
    }
   ],
   "source": [
    "df['Substance'].unique()"
   ]
  },
  {
   "cell_type": "code",
   "execution_count": 40,
   "id": "4826a3bc",
   "metadata": {},
   "outputs": [],
   "source": [
    "substance_map={'carbon dioxide':0, 'methane':1, 'nitrous oxide':2, 'other GHGs':3}"
   ]
  },
  {
   "cell_type": "code",
   "execution_count": 41,
   "id": "9c7fc8a6",
   "metadata": {},
   "outputs": [],
   "source": [
    "df['Substance']=df['Substance'].map(substance_map)"
   ]
  },
  {
   "cell_type": "code",
   "execution_count": 42,
   "id": "88fdb187",
   "metadata": {},
   "outputs": [
    {
     "data": {
      "text/plain": [
       "array([0, 1, 2, 3])"
      ]
     },
     "execution_count": 42,
     "metadata": {},
     "output_type": "execute_result"
    }
   ],
   "source": [
    "df['Substance'].unique()"
   ]
  },
  {
   "cell_type": "code",
   "execution_count": 43,
   "id": "fc042f93",
   "metadata": {},
   "outputs": [
    {
     "name": "stdout",
     "output_type": "stream",
     "text": [
      "['kg/2018 USD, purchaser price' 'kg CO2e/2018 USD, purchaser price']\n"
     ]
    }
   ],
   "source": [
    "print(df['Unit'].unique())"
   ]
  },
  {
   "cell_type": "code",
   "execution_count": 44,
   "id": "5f897a7c",
   "metadata": {},
   "outputs": [],
   "source": [
    "unit_map={'kg/2018 USD, purchaser price':0, 'kg CO2e/2018 USD, purchaser price':1}"
   ]
  },
  {
   "cell_type": "code",
   "execution_count": 45,
   "id": "a454db80",
   "metadata": {},
   "outputs": [],
   "source": [
    "df['Unit']=df['Unit'].map(unit_map)"
   ]
  },
  {
   "cell_type": "code",
   "execution_count": 46,
   "id": "1243c8e1",
   "metadata": {},
   "outputs": [
    {
     "name": "stdout",
     "output_type": "stream",
     "text": [
      "[0 1]\n"
     ]
    }
   ],
   "source": [
    "print(df['Unit'].unique())"
   ]
  },
  {
   "cell_type": "code",
   "execution_count": 47,
   "id": "84076edc",
   "metadata": {},
   "outputs": [
    {
     "name": "stdout",
     "output_type": "stream",
     "text": [
      "['Commodity' 'Industry']\n"
     ]
    }
   ],
   "source": [
    "print(df['Source'].unique())"
   ]
  },
  {
   "cell_type": "code",
   "execution_count": 48,
   "id": "58c7d327",
   "metadata": {},
   "outputs": [],
   "source": [
    "source_map={'Commodity':0, 'Industry':1}"
   ]
  },
  {
   "cell_type": "code",
   "execution_count": 49,
   "id": "f0b3e63e",
   "metadata": {},
   "outputs": [],
   "source": [
    "df['Source']=df['Source'].map(source_map)"
   ]
  },
  {
   "cell_type": "code",
   "execution_count": 50,
   "id": "cec5c804",
   "metadata": {},
   "outputs": [
    {
     "name": "stdout",
     "output_type": "stream",
     "text": [
      "[0 1]\n"
     ]
    }
   ],
   "source": [
    "print(df['Source'].unique())"
   ]
  },
  {
   "cell_type": "code",
   "execution_count": 51,
   "id": "e39744e3",
   "metadata": {},
   "outputs": [
    {
     "name": "stdout",
     "output_type": "stream",
     "text": [
      "<class 'pandas.core.frame.DataFrame'>\n",
      "RangeIndex: 1264 entries, 0 to 1263\n",
      "Data columns (total 14 columns):\n",
      " #   Column                                                  Non-Null Count  Dtype  \n",
      "---  ------                                                  --------------  -----  \n",
      " 0   Code                                                    1264 non-null   object \n",
      " 1   Name                                                    1264 non-null   object \n",
      " 2   Substance                                               1264 non-null   int64  \n",
      " 3   Unit                                                    1264 non-null   int64  \n",
      " 4   Supply Chain Emission Factors without Margins           1264 non-null   float64\n",
      " 5   Margins of Supply Chain Emission Factors                1264 non-null   float64\n",
      " 6   Supply Chain Emission Factors with Margins              1264 non-null   float64\n",
      " 7   DQ ReliabilityScore of Factors without Margins          1264 non-null   int64  \n",
      " 8   DQ TemporalCorrelation of Factors without Margins       1264 non-null   int64  \n",
      " 9   DQ GeographicalCorrelation of Factors without Margins   1264 non-null   int64  \n",
      " 10  DQ TechnologicalCorrelation of Factors without Margins  1264 non-null   int64  \n",
      " 11  DQ DataCollection of Factors without Margins            1264 non-null   int64  \n",
      " 12  Source                                                  1264 non-null   int64  \n",
      " 13  Year                                                    1264 non-null   int64  \n",
      "dtypes: float64(3), int64(9), object(2)\n",
      "memory usage: 138.4+ KB\n"
     ]
    }
   ],
   "source": [
    "df.info()"
   ]
  },
  {
   "cell_type": "code",
   "execution_count": 52,
   "id": "17a70cb5",
   "metadata": {},
   "outputs": [
    {
     "data": {
      "text/plain": [
       "array(['111CA', '113FF', 211, 212, 213, 22, 23, '311FT', '313TT', '315AL',\n",
       "       321, 322, 323, 324, 325, 326, 327, 331, 332, 333, 334, 335,\n",
       "       '3361MV', '3364OT', 337, 339, 42, 441, 445, 452, 481, 482, 483,\n",
       "       484, 485, 486, '487OS', 493, '4A0', 511, 512, 513, 514, '521CI',\n",
       "       523, 524, 525, '532RL', 5411, '5412OP', 5415, 55, 561, 562, 61,\n",
       "       621, 622, 623, 624, '711AS', 713, 721, 722, 81, 'HS', 'ORE',\n",
       "       '1111C0', '1111D0', '1111A0', '1111B0'], dtype=object)"
      ]
     },
     "execution_count": 52,
     "metadata": {},
     "output_type": "execute_result"
    }
   ],
   "source": [
    "df.Code.unique()"
   ]
  },
  {
   "cell_type": "code",
   "execution_count": 53,
   "id": "aa8a6391",
   "metadata": {},
   "outputs": [
    {
     "data": {
      "text/plain": [
       "array(['Farms', 'Forestry, fishing, and related activities',\n",
       "       'Oil and gas extraction', 'Mining, except oil and gas',\n",
       "       'Support activities for mining', 'Utilities', 'Construction',\n",
       "       'Food and beverage and tobacco products',\n",
       "       'Textile mills and textile product mills',\n",
       "       'Apparel and leather and allied products', 'Wood products',\n",
       "       'Paper products', 'Printing and related support activities',\n",
       "       'Petroleum and coal products', 'Chemical products',\n",
       "       'Plastics and rubber products', 'Nonmetallic mineral products',\n",
       "       'Primary metals', 'Fabricated metal products', 'Machinery',\n",
       "       'Computer and electronic products',\n",
       "       'Electrical equipment, appliances, and components',\n",
       "       'Motor vehicles, bodies and trailers, and parts',\n",
       "       'Other transportation equipment', 'Furniture and related products',\n",
       "       'Miscellaneous manufacturing', 'Wholesale trade',\n",
       "       'Motor vehicle and parts dealers', 'Food and beverage stores',\n",
       "       'General merchandise stores', 'Air transportation',\n",
       "       'Rail transportation', 'Water transportation',\n",
       "       'Truck transportation',\n",
       "       'Transit and ground passenger transportation',\n",
       "       'Pipeline transportation',\n",
       "       'Other transportation and support activities',\n",
       "       'Warehousing and storage', 'Other retail',\n",
       "       'Publishing industries, except internet (includes software)',\n",
       "       'Motion picture and sound recording industries',\n",
       "       'Broadcasting and telecommunications',\n",
       "       'Data processing, internet publishing, and other information services',\n",
       "       'Federal Reserve banks, credit intermediation, and related activities',\n",
       "       'Securities, commodity contracts, and investments',\n",
       "       'Insurance carriers and related activities',\n",
       "       'Funds, trusts, and other financial vehicles',\n",
       "       'Rental and leasing services and lessors of intangible assets',\n",
       "       'Legal services',\n",
       "       'Miscellaneous professional, scientific, and technical services',\n",
       "       'Computer systems design and related services',\n",
       "       'Management of companies and enterprises',\n",
       "       'Administrative and support services',\n",
       "       'Waste management and remediation services',\n",
       "       'Educational services', 'Ambulatory health care services',\n",
       "       'Hospitals', 'Nursing and residential care facilities',\n",
       "       'Social assistance',\n",
       "       'Performing arts, spectator sports, museums, and related activities',\n",
       "       'Amusements, gambling, and recreation industries', 'Accommodation',\n",
       "       'Food services and drinking places',\n",
       "       'Other services, except government', 'Housing',\n",
       "       'Other real estate', 'Vegetable farming', 'Fruit farming',\n",
       "       'Oilseed farming', 'Grain farming'], dtype=object)"
      ]
     },
     "execution_count": 53,
     "metadata": {},
     "output_type": "execute_result"
    }
   ],
   "source": [
    "df.Name.unique()"
   ]
  },
  {
   "cell_type": "code",
   "execution_count": 33,
   "id": "1876f988",
   "metadata": {},
   "outputs": [
    {
     "data": {
      "text/plain": [
       "713"
      ]
     },
     "execution_count": 33,
     "metadata": {},
     "output_type": "execute_result"
    }
   ],
   "source": [
    "len(df.Name.unique())"
   ]
  },
  {
   "cell_type": "code",
   "execution_count": 54,
   "id": "35951b28",
   "metadata": {},
   "outputs": [],
   "source": [
    "# Drop non-numeric columns not needed,\n",
    "# Alos drop Code and Year columns since there is no need of both of the columns\n",
    "df.drop(columns=['Name','Code','Year'], inplace=True)"
   ]
  },
  {
   "cell_type": "code",
   "execution_count": 36,
   "id": "d291b8cc",
   "metadata": {},
   "outputs": [],
   "source": [
    "# len(df.Code.unique())"
   ]
  },
  {
   "cell_type": "code",
   "execution_count": 55,
   "id": "c971f716",
   "metadata": {},
   "outputs": [
    {
     "data": {
      "text/plain": [
       "(1264, 11)"
      ]
     },
     "execution_count": 55,
     "metadata": {},
     "output_type": "execute_result"
    }
   ],
   "source": [
    "df.shape"
   ]
  },
  {
   "cell_type": "code",
   "execution_count": 56,
   "id": "b617536e",
   "metadata": {},
   "outputs": [],
   "source": [
    "# Define features and target\n",
    "X = df.drop(columns=['Supply Chain Emission Factors with Margins'])\n",
    "y = df['Supply Chain Emission Factors with Margins']"
   ]
  },
  {
   "cell_type": "code",
   "execution_count": 57,
   "id": "c5d0741f",
   "metadata": {},
   "outputs": [
    {
     "data": {
      "image/png": "[encoded data removed]",
      "text/plain": [
       "<Figure size 600x300 with 1 Axes>"
      ]
     },
     "metadata": {},
     "output_type": "display_data"
    }
   ],
   "source": [
    "plt.figure(figsize=(6, 3))\n",
    "sns.countplot(x=df[\"Substance\"])\n",
    "plt.title(\"Count Plot: Substance\")\n",
    "plt.xticks(rotation=90)\n",
    "plt.tight_layout()\n",
    "plt.show()"
   ]
  },
  {
   "cell_type": "code",
   "execution_count": 58,
   "id": "c93c726a",
   "metadata": {},
   "outputs": [
    {
     "data": {
      "image/png": "[encoded data removed]",
      "text/plain": [
       "<Figure size 600x300 with 1 Axes>"
      ]
     },
     "metadata": {},
     "output_type": "display_data"
    }
   ],
   "source": [
    "plt.figure(figsize=(6, 3))\n",
    "sns.countplot(x=df[\"Unit\"])\n",
    "plt.title(\"Count Plot: Unit\")\n",
    "plt.xticks(rotation=45)\n",
    "plt.tight_layout()\n",
    "plt.show()\n"
   ]
  },
  {
   "cell_type": "code",
   "execution_count": 41,
   "id": "93ea7160",
   "metadata": {},
   "outputs": [
    {
     "data": {
      "image/png": "[encoded data removed]",
      "text/plain": [
       "<Figure size 600x400 with 1 Axes>"
      ]
     },
     "metadata": {},
     "output_type": "display_data"
    }
   ],
   "source": [
    "plt.figure(figsize=(6, 4))\n",
    "sns.countplot(x=df[\"Source\"])\n",
    "plt.title(\"Count Plot: Source (Industry vs Commodity)\")\n",
    "plt.tight_layout()\n",
    "plt.show()"
   ]
  },
  {
   "cell_type": "code",
   "execution_count": 60,
   "id": "12ee4cb4",
   "metadata": {},
   "outputs": [
    {
     "data": {
      "text/html": [
       "<div>\n",
       "<style scoped>\n",
       "    .dataframe tbody tr th:only-of-type {\n",
       "        vertical-align: middle;\n",
       "    }\n",
       "\n",
       "    .dataframe tbody tr th {\n",
       "        vertical-align: top;\n",
       "    }\n",
       "\n",
       "    .dataframe thead th {\n",
       "        text-align: right;\n",
       "    }\n",
       "</style>\n",
       "<table border=\"1\" class=\"dataframe\">\n",
       "  <thead>\n",
       "    <tr style=\"text-align: right;\">\n",
       "      <th></th>\n",
       "      <th>Substance</th>\n",
       "      <th>Unit</th>\n",
       "      <th>Supply Chain Emission Factors without Margins</th>\n",
       "      <th>Margins of Supply Chain Emission Factors</th>\n",
       "      <th>Supply Chain Emission Factors with Margins</th>\n",
       "      <th>DQ ReliabilityScore of Factors without Margins</th>\n",
       "      <th>DQ TemporalCorrelation of Factors without Margins</th>\n",
       "      <th>DQ GeographicalCorrelation of Factors without Margins</th>\n",
       "      <th>DQ TechnologicalCorrelation of Factors without Margins</th>\n",
       "      <th>DQ DataCollection of Factors without Margins</th>\n",
       "      <th>Source</th>\n",
       "    </tr>\n",
       "  </thead>\n",
       "  <tbody>\n",
       "    <tr>\n",
       "      <th>Substance</th>\n",
       "      <td>1.000000</td>\n",
       "      <td>0.527783</td>\n",
       "      <td>-0.068019</td>\n",
       "      <td>-0.027255</td>\n",
       "      <td>-0.068262</td>\n",
       "      <td>0.002847</td>\n",
       "      <td>0.006812</td>\n",
       "      <td>0.007605</td>\n",
       "      <td>0.048642</td>\n",
       "      <td>-0.015157</td>\n",
       "      <td>-0.010351</td>\n",
       "    </tr>\n",
       "    <tr>\n",
       "      <th>Unit</th>\n",
       "      <td>0.527783</td>\n",
       "      <td>1.000000</td>\n",
       "      <td>0.099308</td>\n",
       "      <td>0.104563</td>\n",
       "      <td>0.106120</td>\n",
       "      <td>-0.000380</td>\n",
       "      <td>0.075025</td>\n",
       "      <td>0.124243</td>\n",
       "      <td>0.079047</td>\n",
       "      <td>0.086468</td>\n",
       "      <td>0.198888</td>\n",
       "    </tr>\n",
       "    <tr>\n",
       "      <th>Supply Chain Emission Factors without Margins</th>\n",
       "      <td>-0.068019</td>\n",
       "      <td>0.099308</td>\n",
       "      <td>1.000000</td>\n",
       "      <td>0.318193</td>\n",
       "      <td>0.995562</td>\n",
       "      <td>-0.164116</td>\n",
       "      <td>0.158640</td>\n",
       "      <td>0.272693</td>\n",
       "      <td>0.036765</td>\n",
       "      <td>0.263227</td>\n",
       "      <td>0.517889</td>\n",
       "    </tr>\n",
       "    <tr>\n",
       "      <th>Margins of Supply Chain Emission Factors</th>\n",
       "      <td>-0.027255</td>\n",
       "      <td>0.104563</td>\n",
       "      <td>0.318193</td>\n",
       "      <td>1.000000</td>\n",
       "      <td>0.405999</td>\n",
       "      <td>-0.054614</td>\n",
       "      <td>0.188199</td>\n",
       "      <td>0.317895</td>\n",
       "      <td>0.014108</td>\n",
       "      <td>0.334644</td>\n",
       "      <td>0.576633</td>\n",
       "    </tr>\n",
       "    <tr>\n",
       "      <th>Supply Chain Emission Factors with Margins</th>\n",
       "      <td>-0.068262</td>\n",
       "      <td>0.106120</td>\n",
       "      <td>0.995562</td>\n",
       "      <td>0.405999</td>\n",
       "      <td>1.000000</td>\n",
       "      <td>-0.163626</td>\n",
       "      <td>0.171613</td>\n",
       "      <td>0.294435</td>\n",
       "      <td>0.036847</td>\n",
       "      <td>0.286973</td>\n",
       "      <td>0.556490</td>\n",
       "    </tr>\n",
       "    <tr>\n",
       "      <th>DQ ReliabilityScore of Factors without Margins</th>\n",
       "      <td>0.002847</td>\n",
       "      <td>-0.000380</td>\n",
       "      <td>-0.164116</td>\n",
       "      <td>-0.054614</td>\n",
       "      <td>-0.163626</td>\n",
       "      <td>1.000000</td>\n",
       "      <td>-0.084429</td>\n",
       "      <td>-0.134741</td>\n",
       "      <td>0.017779</td>\n",
       "      <td>-0.086768</td>\n",
       "      <td>-0.167083</td>\n",
       "    </tr>\n",
       "    <tr>\n",
       "      <th>DQ TemporalCorrelation of Factors without Margins</th>\n",
       "      <td>0.006812</td>\n",
       "      <td>0.075025</td>\n",
       "      <td>0.158640</td>\n",
       "      <td>0.188199</td>\n",
       "      <td>0.171613</td>\n",
       "      <td>-0.084429</td>\n",
       "      <td>1.000000</td>\n",
       "      <td>0.124944</td>\n",
       "      <td>-0.050915</td>\n",
       "      <td>0.201973</td>\n",
       "      <td>0.302003</td>\n",
       "    </tr>\n",
       "    <tr>\n",
       "      <th>DQ GeographicalCorrelation of Factors without Margins</th>\n",
       "      <td>0.007605</td>\n",
       "      <td>0.124243</td>\n",
       "      <td>0.272693</td>\n",
       "      <td>0.317895</td>\n",
       "      <td>0.294435</td>\n",
       "      <td>-0.134741</td>\n",
       "      <td>0.124944</td>\n",
       "      <td>1.000000</td>\n",
       "      <td>0.013568</td>\n",
       "      <td>0.309595</td>\n",
       "      <td>0.548975</td>\n",
       "    </tr>\n",
       "    <tr>\n",
       "      <th>DQ TechnologicalCorrelation of Factors without Margins</th>\n",
       "      <td>0.048642</td>\n",
       "      <td>0.079047</td>\n",
       "      <td>0.036765</td>\n",
       "      <td>0.014108</td>\n",
       "      <td>0.036847</td>\n",
       "      <td>0.017779</td>\n",
       "      <td>-0.050915</td>\n",
       "      <td>0.013568</td>\n",
       "      <td>1.000000</td>\n",
       "      <td>0.003800</td>\n",
       "      <td>0.038727</td>\n",
       "    </tr>\n",
       "    <tr>\n",
       "      <th>DQ DataCollection of Factors without Margins</th>\n",
       "      <td>-0.015157</td>\n",
       "      <td>0.086468</td>\n",
       "      <td>0.263227</td>\n",
       "      <td>0.334644</td>\n",
       "      <td>0.286973</td>\n",
       "      <td>-0.086768</td>\n",
       "      <td>0.201973</td>\n",
       "      <td>0.309595</td>\n",
       "      <td>0.003800</td>\n",
       "      <td>1.000000</td>\n",
       "      <td>0.543033</td>\n",
       "    </tr>\n",
       "    <tr>\n",
       "      <th>Source</th>\n",
       "      <td>-0.010351</td>\n",
       "      <td>0.198888</td>\n",
       "      <td>0.517889</td>\n",
       "      <td>0.576633</td>\n",
       "      <td>0.556490</td>\n",
       "      <td>-0.167083</td>\n",
       "      <td>0.302003</td>\n",
       "      <td>0.548975</td>\n",
       "      <td>0.038727</td>\n",
       "      <td>0.543033</td>\n",
       "      <td>1.000000</td>\n",
       "    </tr>\n",
       "  </tbody>\n",
       "</table>\n",
       "</div>"
      ],
      "text/plain": [
       "                                                    Substance      Unit  \\\n",
       "Substance                                            1.000000  0.527783   \n",
       "Unit                                                 0.527783  1.000000   \n",
       "Supply Chain Emission Factors without Margins       -0.068019  0.099308   \n",
       "Margins of Supply Chain Emission Factors            -0.027255  0.104563   \n",
       "Supply Chain Emission Factors with Margins          -0.068262  0.106120   \n",
       "DQ ReliabilityScore of Factors without Margins       0.002847 -0.000380   \n",
       "DQ TemporalCorrelation of Factors without Margins    0.006812  0.075025   \n",
       "DQ GeographicalCorrelation of Factors without M...   0.007605  0.124243   \n",
       "DQ TechnologicalCorrelation of Factors without ...   0.048642  0.079047   \n",
       "DQ DataCollection of Factors without Margins        -0.015157  0.086468   \n",
       "Source                                              -0.010351  0.198888   \n",
       "\n",
       "                                                    Supply Chain Emission Factors without Margins  \\\n",
       "Substance                                                                               -0.068019   \n",
       "Unit                                                                                     0.099308   \n",
       "Supply Chain Emission Factors without Margins                                            1.000000   \n",
       "Margins of Supply Chain Emission Factors                                                 0.318193   \n",
       "Supply Chain Emission Factors with Margins                                               0.995562   \n",
       "DQ ReliabilityScore of Factors without Margins                                          -0.164116   \n",
       "DQ TemporalCorrelation of Factors without Margins                                        0.158640   \n",
       "DQ GeographicalCorrelation of Factors without M...                                       0.272693   \n",
       "DQ TechnologicalCorrelation of Factors without ...                                       0.036765   \n",
       "DQ DataCollection of Factors without Margins                                             0.263227   \n",
       "Source                                                                                   0.517889   \n",
       "\n",
       "                                                    Margins of Supply Chain Emission Factors  \\\n",
       "Substance                                                                          -0.027255   \n",
       "Unit                                                                                0.104563   \n",
       "Supply Chain Emission Factors without Margins                                       0.318193   \n",
       "Margins of Supply Chain Emission Factors                                            1.000000   \n",
       "Supply Chain Emission Factors with Margins                                          0.405999   \n",
       "DQ ReliabilityScore of Factors without Margins                                     -0.054614   \n",
       "DQ TemporalCorrelation of Factors without Margins                                   0.188199   \n",
       "DQ GeographicalCorrelation of Factors without M...                                  0.317895   \n",
       "DQ TechnologicalCorrelation of Factors without ...                                  0.014108   \n",
       "DQ DataCollection of Factors without Margins                                        0.334644   \n",
       "Source                                                                              0.576633   \n",
       "\n",
       "                                                    Supply Chain Emission Factors with Margins  \\\n",
       "Substance                                                                            -0.068262   \n",
       "Unit                                                                                  0.106120   \n",
       "Supply Chain Emission Factors without Margins                                         0.995562   \n",
       "Margins of Supply Chain Emission Factors                                              0.405999   \n",
       "Supply Chain Emission Factors with Margins                                            1.000000   \n",
       "DQ ReliabilityScore of Factors without Margins                                       -0.163626   \n",
       "DQ TemporalCorrelation of Factors without Margins                                     0.171613   \n",
       "DQ GeographicalCorrelation of Factors without M...                                    0.294435   \n",
       "DQ TechnologicalCorrelation of Factors without ...                                    0.036847   \n",
       "DQ DataCollection of Factors without Margins                                          0.286973   \n",
       "Source                                                                                0.556490   \n",
       "\n",
       "                                                    DQ ReliabilityScore of Factors without Margins  \\\n",
       "Substance                                                                                 0.002847   \n",
       "Unit                                                                                     -0.000380   \n",
       "Supply Chain Emission Factors without Margins                                            -0.164116   \n",
       "Margins of Supply Chain Emission Factors                                                 -0.054614   \n",
       "Supply Chain Emission Factors with Margins                                               -0.163626   \n",
       "DQ ReliabilityScore of Factors without Margins                                            1.000000   \n",
       "DQ TemporalCorrelation of Factors without Margins                                        -0.084429   \n",
       "DQ GeographicalCorrelation of Factors without M...                                       -0.134741   \n",
       "DQ TechnologicalCorrelation of Factors without ...                                        0.017779   \n",
       "DQ DataCollection of Factors without Margins                                             -0.086768   \n",
       "Source                                                                                   -0.167083   \n",
       "\n",
       "                                                    DQ TemporalCorrelation of Factors without Margins  \\\n",
       "Substance                                                                                    0.006812   \n",
       "Unit                                                                                         0.075025   \n",
       "Supply Chain Emission Factors without Margins                                                0.158640   \n",
       "Margins of Supply Chain Emission Factors                                                     0.188199   \n",
       "Supply Chain Emission Factors with Margins                                                   0.171613   \n",
       "DQ ReliabilityScore of Factors without Margins                                              -0.084429   \n",
       "DQ TemporalCorrelation of Factors without Margins                                            1.000000   \n",
       "DQ GeographicalCorrelation of Factors without M...                                           0.124944   \n",
       "DQ TechnologicalCorrelation of Factors without ...                                          -0.050915   \n",
       "DQ DataCollection of Factors without Margins                                                 0.201973   \n",
       "Source                                                                                       0.302003   \n",
       "\n",
       "                                                    DQ GeographicalCorrelation of Factors without Margins  \\\n",
       "Substance                                                                                    0.007605       \n",
       "Unit                                                                                         0.124243       \n",
       "Supply Chain Emission Factors without Margins                                                0.272693       \n",
       "Margins of Supply Chain Emission Factors                                                     0.317895       \n",
       "Supply Chain Emission Factors with Margins                                                   0.294435       \n",
       "DQ ReliabilityScore of Factors without Margins                                              -0.134741       \n",
       "DQ TemporalCorrelation of Factors without Margins                                            0.124944       \n",
       "DQ GeographicalCorrelation of Factors without M...                                           1.000000       \n",
       "DQ TechnologicalCorrelation of Factors without ...                                           0.013568       \n",
       "DQ DataCollection of Factors without Margins                                                 0.309595       \n",
       "Source                                                                                       0.548975       \n",
       "\n",
       "                                                    DQ TechnologicalCorrelation of Factors without Margins  \\\n",
       "Substance                                                                                    0.048642        \n",
       "Unit                                                                                         0.079047        \n",
       "Supply Chain Emission Factors without Margins                                                0.036765        \n",
       "Margins of Supply Chain Emission Factors                                                     0.014108        \n",
       "Supply Chain Emission Factors with Margins                                                   0.036847        \n",
       "DQ ReliabilityScore of Factors without Margins                                               0.017779        \n",
       "DQ TemporalCorrelation of Factors without Margins                                           -0.050915        \n",
       "DQ GeographicalCorrelation of Factors without M...                                           0.013568        \n",
       "DQ TechnologicalCorrelation of Factors without ...                                           1.000000        \n",
       "DQ DataCollection of Factors without Margins                                                 0.003800        \n",
       "Source                                                                                       0.038727        \n",
       "\n",
       "                                                    DQ DataCollection of Factors without Margins  \\\n",
       "Substance                                                                              -0.015157   \n",
       "Unit                                                                                    0.086468   \n",
       "Supply Chain Emission Factors without Margins                                           0.263227   \n",
       "Margins of Supply Chain Emission Factors                                                0.334644   \n",
       "Supply Chain Emission Factors with Margins                                              0.286973   \n",
       "DQ ReliabilityScore of Factors without Margins                                         -0.086768   \n",
       "DQ TemporalCorrelation of Factors without Margins                                       0.201973   \n",
       "DQ GeographicalCorrelation of Factors without M...                                      0.309595   \n",
       "DQ TechnologicalCorrelation of Factors without ...                                      0.003800   \n",
       "DQ DataCollection of Factors without Margins                                            1.000000   \n",
       "Source                                                                                  0.543033   \n",
       "\n",
       "                                                      Source  \n",
       "Substance                                          -0.010351  \n",
       "Unit                                                0.198888  \n",
       "Supply Chain Emission Factors without Margins       0.517889  \n",
       "Margins of Supply Chain Emission Factors            0.576633  \n",
       "Supply Chain Emission Factors with Margins          0.556490  \n",
       "DQ ReliabilityScore of Factors without Margins     -0.167083  \n",
       "DQ TemporalCorrelation of Factors without Margins   0.302003  \n",
       "DQ GeographicalCorrelation of Factors without M...  0.548975  \n",
       "DQ TechnologicalCorrelation of Factors without ...  0.038727  \n",
       "DQ DataCollection of Factors without Margins        0.543033  \n",
       "Source                                              1.000000  "
      ]
     },
     "execution_count": 60,
     "metadata": {},
     "output_type": "execute_result"
    }
   ],
   "source": [
    "import numpy as np\n",
    "df.select_dtypes(include=np.number).corr()"
   ]
  },
  {
   "cell_type": "code",
   "execution_count": 61,
   "id": "cca48055",
   "metadata": {},
   "outputs": [
    {
     "name": "stdout",
     "output_type": "stream",
     "text": [
      "<class 'pandas.core.frame.DataFrame'>\n",
      "RangeIndex: 1264 entries, 0 to 1263\n",
      "Data columns (total 11 columns):\n",
      " #   Column                                                  Non-Null Count  Dtype  \n",
      "---  ------                                                  --------------  -----  \n",
      " 0   Substance                                               1264 non-null   int64  \n",
      " 1   Unit                                                    1264 non-null   int64  \n",
      " 2   Supply Chain Emission Factors without Margins           1264 non-null   float64\n",
      " 3   Margins of Supply Chain Emission Factors                1264 non-null   float64\n",
      " 4   Supply Chain Emission Factors with Margins              1264 non-null   float64\n",
      " 5   DQ ReliabilityScore of Factors without Margins          1264 non-null   int64  \n",
      " 6   DQ TemporalCorrelation of Factors without Margins       1264 non-null   int64  \n",
      " 7   DQ GeographicalCorrelation of Factors without Margins   1264 non-null   int64  \n",
      " 8   DQ TechnologicalCorrelation of Factors without Margins  1264 non-null   int64  \n",
      " 9   DQ DataCollection of Factors without Margins            1264 non-null   int64  \n",
      " 10  Source                                                  1264 non-null   int64  \n",
      "dtypes: float64(3), int64(8)\n",
      "memory usage: 108.8 KB\n"
     ]
    }
   ],
   "source": [
    "df.info()"
   ]
  },
  {
   "cell_type": "code",
   "execution_count": 62,
   "id": "a1fb07f5",
   "metadata": {},
   "outputs": [
    {
     "data": {
      "image/png": "[encoded data removed]",
      "text/plain": [
       "<Figure size 1200x800 with 2 Axes>"
      ]
     },
     "metadata": {},
     "output_type": "display_data"
    }
   ],
   "source": [
    "# Correlation matrix\n",
    "plt.figure(figsize=(12, 8))\n",
    "sns.heatmap(df.select_dtypes(include=np.number).corr(), annot=True, cmap=\"coolwarm\")\n",
    "plt.title(\"Correlation Heatmap\")\n",
    "plt.show()"
   ]
  },
  {
   "cell_type": "markdown",
   "id": "3db583d9",
   "metadata": {},
   "source": [
    "## Normalize features"
   ]
  },
  {
   "cell_type": "code",
   "execution_count": 66,
   "id": "c4490c36",
   "metadata": {},
   "outputs": [],
   "source": [
    "# Normalize features\n",
    "from sklearn.preprocessing import StandardScaler\n",
    "from sklearn.model_selection import train_test_split\n",
    "\n",
    "\n",
    "# Assume X is your feature matrix\n",
    "scaler = StandardScaler()\n",
    "X_scaled = scaler.fit_transform(X)\n"
   ]
  },
  {
   "cell_type": "markdown",
   "id": "57e863ff",
   "metadata": {},
   "source": [
    "#### Divide the data into train and test"
   ]
  },
  {
   "cell_type": "code",
   "execution_count": 67,
   "id": "28fa30fb",
   "metadata": {},
   "outputs": [],
   "source": [
    "X_train, X_test, y_train, y_test = train_test_split(X_scaled, y, test_size=0.2, random_state=42)"
   ]
  },
  {
   "cell_type": "markdown",
   "id": "ef971a78",
   "metadata": {},
   "source": [
    "### Select the model for training"
   ]
  },
  {
   "cell_type": "code",
   "execution_count": 69,
   "id": "7250330f",
   "metadata": {},
   "outputs": [],
   "source": [
    "from sklearn.ensemble import RandomForestRegressor\n",
    "\n",
    "model = RandomForestRegressor(random_state=42)"
   ]
  },
  {
   "cell_type": "markdown",
   "id": "e94b47bd",
   "metadata": {},
   "source": [
    "### Training"
   ]
  },
  {
   "cell_type": "code",
   "execution_count": 70,
   "id": "c6682a5d",
   "metadata": {},
   "outputs": [
    {
     "data": {
      "text/html": [
       "<style>#sk-container-id-1 {\n",
       "  /* Definition of color scheme common for light and dark mode */\n",
       "  --sklearn-color-text: #000;\n",
       "  --sklearn-color-text-muted: #666;\n",
       "  --sklearn-color-line: gray;\n",
       "  /* Definition of color scheme for unfitted estimators */\n",
       "  --sklearn-color-unfitted-level-0: #fff5e6;\n",
       "  --sklearn-color-unfitted-level-1: #f6e4d2;\n",
       "  --sklearn-color-unfitted-level-2: #ffe0b3;\n",
       "  --sklearn-color-unfitted-level-3: chocolate;\n",
       "  /* Definition of color scheme for fitted estimators */\n",
       "  --sklearn-color-fitted-level-0: #f0f8ff;\n",
       "  --sklearn-color-fitted-level-1: #d4ebff;\n",
       "  --sklearn-color-fitted-level-2: #b3dbfd;\n",
       "  --sklearn-color-fitted-level-3: cornflowerblue;\n",
       "\n",
       "  /* Specific color for light theme */\n",
       "  --sklearn-color-text-on-default-background: var(--sg-text-color, var(--theme-code-foreground, var(--jp-content-font-color1, black)));\n",
       "  --sklearn-color-background: var(--sg-background-color, var(--theme-background, var(--jp-layout-color0, white)));\n",
       "  --sklearn-color-border-box: var(--sg-text-color, var(--theme-code-foreground, var(--jp-content-font-color1, black)));\n",
       "  --sklearn-color-icon: #696969;\n",
       "\n",
       "  @media (prefers-color-scheme: dark) {\n",
       "    /* Redefinition of color scheme for dark theme */\n",
       "    --sklearn-color-text-on-default-background: var(--sg-text-color, var(--theme-code-foreground, var(--jp-content-font-color1, white)));\n",
       "    --sklearn-color-background: var(--sg-background-color, var(--theme-background, var(--jp-layout-color0, #111)));\n",
       "    --sklearn-color-border-box: var(--sg-text-color, var(--theme-code-foreground, var(--jp-content-font-color1, white)));\n",
       "    --sklearn-color-icon: #878787;\n",
       "  }\n",
       "}\n",
       "\n",
       "#sk-container-id-1 {\n",
       "  color: var(--sklearn-color-text);\n",
       "}\n",
       "\n",
       "#sk-container-id-1 pre {\n",
       "  padding: 0;\n",
       "}\n",
       "\n",
       "#sk-container-id-1 input.sk-hidden--visually {\n",
       "  border: 0;\n",
       "  clip: rect(1px 1px 1px 1px);\n",
       "  clip: rect(1px, 1px, 1px, 1px);\n",
       "  height: 1px;\n",
       "  margin: -1px;\n",
       "  overflow: hidden;\n",
       "  padding: 0;\n",
       "  position: absolute;\n",
       "  width: 1px;\n",
       "}\n",
       "\n",
       "#sk-container-id-1 div.sk-dashed-wrapped {\n",
       "  border: 1px dashed var(--sklearn-color-line);\n",
       "  margin: 0 0.4em 0.5em 0.4em;\n",
       "  box-sizing: border-box;\n",
       "  padding-bottom: 0.4em;\n",
       "  background-color: var(--sklearn-color-background);\n",
       "}\n",
       "\n",
       "#sk-container-id-1 div.sk-container {\n",
       "  /* jupyter's `normalize.less` sets `[hidden] { display: none; }`\n",
       "     but bootstrap.min.css set `[hidden] { display: none !important; }`\n",
       "     so we also need the `!important` here to be able to override the\n",
       "     default hidden behavior on the sphinx rendered scikit-learn.org.\n",
       "     See: https://github.com/scikit-learn/scikit-learn/issues/21755 */\n",
       "  display: inline-block !important;\n",
       "  position: relative;\n",
       "}\n",
       "\n",
       "#sk-container-id-1 div.sk-text-repr-fallback {\n",
       "  display: none;\n",
       "}\n",
       "\n",
       "div.sk-parallel-item,\n",
       "div.sk-serial,\n",
       "div.sk-item {\n",
       "  /* draw centered vertical line to link estimators */\n",
       "  background-image: linear-gradient(var(--sklearn-color-text-on-default-background), var(--sklearn-color-text-on-default-background));\n",
       "  background-size: 2px 100%;\n",
       "  background-repeat: no-repeat;\n",
       "  background-position: center center;\n",
       "}\n",
       "\n",
       "/* Parallel-specific style estimator block */\n",
       "\n",
       "#sk-container-id-1 div.sk-parallel-item::after {\n",
       "  content: \"\";\n",
       "  width: 100%;\n",
       "  border-bottom: 2px solid var(--sklearn-color-text-on-default-background);\n",
       "  flex-grow: 1;\n",
       "}\n",
       "\n",
       "#sk-container-id-1 div.sk-parallel {\n",
       "  display: flex;\n",
       "  align-items: stretch;\n",
       "  justify-content: center;\n",
       "  background-color: var(--sklearn-color-background);\n",
       "  position: relative;\n",
       "}\n",
       "\n",
       "#sk-container-id-1 div.sk-parallel-item {\n",
       "  display: flex;\n",
       "  flex-direction: column;\n",
       "}\n",
       "\n",
       "#sk-container-id-1 div.sk-parallel-item:first-child::after {\n",
       "  align-self: flex-end;\n",
       "  width: 50%;\n",
       "}\n",
       "\n",
       "#sk-container-id-1 div.sk-parallel-item:last-child::after {\n",
       "  align-self: flex-start;\n",
       "  width: 50%;\n",
       "}\n",
       "\n",
       "#sk-container-id-1 div.sk-parallel-item:only-child::after {\n",
       "  width: 0;\n",
       "}\n",
       "\n",
       "/* Serial-specific style estimator block */\n",
       "\n",
       "#sk-container-id-1 div.sk-serial {\n",
       "  display: flex;\n",
       "  flex-direction: column;\n",
       "  align-items: center;\n",
       "  background-color: var(--sklearn-color-background);\n",
       "  padding-right: 1em;\n",
       "  padding-left: 1em;\n",
       "}\n",
       "\n",
       "\n",
       "/* Toggleable style: style used for estimator/Pipeline/ColumnTransformer box that is\n",
       "clickable and can be expanded/collapsed.\n",
       "- Pipeline and ColumnTransformer use this feature and define the default style\n",
       "- Estimators will overwrite some part of the style using the `sk-estimator` class\n",
       "*/\n",
       "\n",
       "/* Pipeline and ColumnTransformer style (default) */\n",
       "\n",
       "#sk-container-id-1 div.sk-toggleable {\n",
       "  /* Default theme specific background. It is overwritten whether we have a\n",
       "  specific estimator or a Pipeline/ColumnTransformer */\n",
       "  background-color: var(--sklearn-color-background);\n",
       "}\n",
       "\n",
       "/* Toggleable label */\n",
       "#sk-container-id-1 label.sk-toggleable__label {\n",
       "  cursor: pointer;\n",
       "  display: flex;\n",
       "  width: 100%;\n",
       "  margin-bottom: 0;\n",
       "  padding: 0.5em;\n",
       "  box-sizing: border-box;\n",
       "  text-align: center;\n",
       "  align-items: start;\n",
       "  justify-content: space-between;\n",
       "  gap: 0.5em;\n",
       "}\n",
       "\n",
       "#sk-container-id-1 label.sk-toggleable__label .caption {\n",
       "  font-size: 0.6rem;\n",
       "  font-weight: lighter;\n",
       "  color: var(--sklearn-color-text-muted);\n",
       "}\n",
       "\n",
       "#sk-container-id-1 label.sk-toggleable__label-arrow:before {\n",
       "  /* Arrow on the left of the label */\n",
       "  content: \"▸\";\n",
       "  float: left;\n",
       "  margin-right: 0.25em;\n",
       "  color: var(--sklearn-color-icon);\n",
       "}\n",
       "\n",
       "#sk-container-id-1 label.sk-toggleable__label-arrow:hover:before {\n",
       "  color: var(--sklearn-color-text);\n",
       "}\n",
       "\n",
       "/* Toggleable content - dropdown */\n",
       "\n",
       "#sk-container-id-1 div.sk-toggleable__content {\n",
       "  max-height: 0;\n",
       "  max-width: 0;\n",
       "  overflow: hidden;\n",
       "  text-align: left;\n",
       "  /* unfitted */\n",
       "  background-color: var(--sklearn-color-unfitted-level-0);\n",
       "}\n",
       "\n",
       "#sk-container-id-1 div.sk-toggleable__content.fitted {\n",
       "  /* fitted */\n",
       "  background-color: var(--sklearn-color-fitted-level-0);\n",
       "}\n",
       "\n",
       "#sk-container-id-1 div.sk-toggleable__content pre {\n",
       "  margin: 0.2em;\n",
       "  border-radius: 0.25em;\n",
       "  color: var(--sklearn-color-text);\n",
       "  /* unfitted */\n",
       "  background-color: var(--sklearn-color-unfitted-level-0);\n",
       "}\n",
       "\n",
       "#sk-container-id-1 div.sk-toggleable__content.fitted pre {\n",
       "  /* unfitted */\n",
       "  background-color: var(--sklearn-color-fitted-level-0);\n",
       "}\n",
       "\n",
       "#sk-container-id-1 input.sk-toggleable__control:checked~div.sk-toggleable__content {\n",
       "  /* Expand drop-down */\n",
       "  max-height: 200px;\n",
       "  max-width: 100%;\n",
       "  overflow: auto;\n",
       "}\n",
       "\n",
       "#sk-container-id-1 input.sk-toggleable__control:checked~label.sk-toggleable__label-arrow:before {\n",
       "  content: \"▾\";\n",
       "}\n",
       "\n",
       "/* Pipeline/ColumnTransformer-specific style */\n",
       "\n",
       "#sk-container-id-1 div.sk-label input.sk-toggleable__control:checked~label.sk-toggleable__label {\n",
       "  color: var(--sklearn-color-text);\n",
       "  background-color: var(--sklearn-color-unfitted-level-2);\n",
       "}\n",
       "\n",
       "#sk-container-id-1 div.sk-label.fitted input.sk-toggleable__control:checked~label.sk-toggleable__label {\n",
       "  background-color: var(--sklearn-color-fitted-level-2);\n",
       "}\n",
       "\n",
       "/* Estimator-specific style */\n",
       "\n",
       "/* Colorize estimator box */\n",
       "#sk-container-id-1 div.sk-estimator input.sk-toggleable__control:checked~label.sk-toggleable__label {\n",
       "  /* unfitted */\n",
       "  background-color: var(--sklearn-color-unfitted-level-2);\n",
       "}\n",
       "\n",
       "#sk-container-id-1 div.sk-estimator.fitted input.sk-toggleable__control:checked~label.sk-toggleable__label {\n",
       "  /* fitted */\n",
       "  background-color: var(--sklearn-color-fitted-level-2);\n",
       "}\n",
       "\n",
       "#sk-container-id-1 div.sk-label label.sk-toggleable__label,\n",
       "#sk-container-id-1 div.sk-label label {\n",
       "  /* The background is the default theme color */\n",
       "  color: var(--sklearn-color-text-on-default-background);\n",
       "}\n",
       "\n",
       "/* On hover, darken the color of the background */\n",
       "#sk-container-id-1 div.sk-label:hover label.sk-toggleable__label {\n",
       "  color: var(--sklearn-color-text);\n",
       "  background-color: var(--sklearn-color-unfitted-level-2);\n",
       "}\n",
       "\n",
       "/* Label box, darken color on hover, fitted */\n",
       "#sk-container-id-1 div.sk-label.fitted:hover label.sk-toggleable__label.fitted {\n",
       "  color: var(--sklearn-color-text);\n",
       "  background-color: var(--sklearn-color-fitted-level-2);\n",
       "}\n",
       "\n",
       "/* Estimator label */\n",
       "\n",
       "#sk-container-id-1 div.sk-label label {\n",
       "  font-family: monospace;\n",
       "  font-weight: bold;\n",
       "  display: inline-block;\n",
       "  line-height: 1.2em;\n",
       "}\n",
       "\n",
       "#sk-container-id-1 div.sk-label-container {\n",
       "  text-align: center;\n",
       "}\n",
       "\n",
       "/* Estimator-specific */\n",
       "#sk-container-id-1 div.sk-estimator {\n",
       "  font-family: monospace;\n",
       "  border: 1px dotted var(--sklearn-color-border-box);\n",
       "  border-radius: 0.25em;\n",
       "  box-sizing: border-box;\n",
       "  margin-bottom: 0.5em;\n",
       "  /* unfitted */\n",
       "  background-color: var(--sklearn-color-unfitted-level-0);\n",
       "}\n",
       "\n",
       "#sk-container-id-1 div.sk-estimator.fitted {\n",
       "  /* fitted */\n",
       "  background-color: var(--sklearn-color-fitted-level-0);\n",
       "}\n",
       "\n",
       "/* on hover */\n",
       "#sk-container-id-1 div.sk-estimator:hover {\n",
       "  /* unfitted */\n",
       "  background-color: var(--sklearn-color-unfitted-level-2);\n",
       "}\n",
       "\n",
       "#sk-container-id-1 div.sk-estimator.fitted:hover {\n",
       "  /* fitted */\n",
       "  background-color: var(--sklearn-color-fitted-level-2);\n",
       "}\n",
       "\n",
       "/* Specification for estimator info (e.g. \"i\" and \"?\") */\n",
       "\n",
       "/* Common style for \"i\" and \"?\" */\n",
       "\n",
       ".sk-estimator-doc-link,\n",
       "a:link.sk-estimator-doc-link,\n",
       "a:visited.sk-estimator-doc-link {\n",
       "  float: right;\n",
       "  font-size: smaller;\n",
       "  line-height: 1em;\n",
       "  font-family: monospace;\n",
       "  background-color: var(--sklearn-color-background);\n",
       "  border-radius: 1em;\n",
       "  height: 1em;\n",
       "  width: 1em;\n",
       "  text-decoration: none !important;\n",
       "  margin-left: 0.5em;\n",
       "  text-align: center;\n",
       "  /* unfitted */\n",
       "  border: var(--sklearn-color-unfitted-level-1) 1pt solid;\n",
       "  color: var(--sklearn-color-unfitted-level-1);\n",
       "}\n",
       "\n",
       ".sk-estimator-doc-link.fitted,\n",
       "a:link.sk-estimator-doc-link.fitted,\n",
       "a:visited.sk-estimator-doc-link.fitted {\n",
       "  /* fitted */\n",
       "  border: var(--sklearn-color-fitted-level-1) 1pt solid;\n",
       "  color: var(--sklearn-color-fitted-level-1);\n",
       "}\n",
       "\n",
       "/* On hover */\n",
       "div.sk-estimator:hover .sk-estimator-doc-link:hover,\n",
       ".sk-estimator-doc-link:hover,\n",
       "div.sk-label-container:hover .sk-estimator-doc-link:hover,\n",
       ".sk-estimator-doc-link:hover {\n",
       "  /* unfitted */\n",
       "  background-color: var(--sklearn-color-unfitted-level-3);\n",
       "  color: var(--sklearn-color-background);\n",
       "  text-decoration: none;\n",
       "}\n",
       "\n",
       "div.sk-estimator.fitted:hover .sk-estimator-doc-link.fitted:hover,\n",
       ".sk-estimator-doc-link.fitted:hover,\n",
       "div.sk-label-container:hover .sk-estimator-doc-link.fitted:hover,\n",
       ".sk-estimator-doc-link.fitted:hover {\n",
       "  /* fitted */\n",
       "  background-color: var(--sklearn-color-fitted-level-3);\n",
       "  color: var(--sklearn-color-background);\n",
       "  text-decoration: none;\n",
       "}\n",
       "\n",
       "/* Span, style for the box shown on hovering the info icon */\n",
       ".sk-estimator-doc-link span {\n",
       "  display: none;\n",
       "  z-index: 9999;\n",
       "  position: relative;\n",
       "  font-weight: normal;\n",
       "  right: .2ex;\n",
       "  padding: .5ex;\n",
       "  margin: .5ex;\n",
       "  width: min-content;\n",
       "  min-width: 20ex;\n",
       "  max-width: 50ex;\n",
       "  color: var(--sklearn-color-text);\n",
       "  box-shadow: 2pt 2pt 4pt #999;\n",
       "  /* unfitted */\n",
       "  background: var(--sklearn-color-unfitted-level-0);\n",
       "  border: .5pt solid var(--sklearn-color-unfitted-level-3);\n",
       "}\n",
       "\n",
       ".sk-estimator-doc-link.fitted span {\n",
       "  /* fitted */\n",
       "  background: var(--sklearn-color-fitted-level-0);\n",
       "  border: var(--sklearn-color-fitted-level-3);\n",
       "}\n",
       "\n",
       ".sk-estimator-doc-link:hover span {\n",
       "  display: block;\n",
       "}\n",
       "\n",
       "/* \"?\"-specific style due to the `<a>` HTML tag */\n",
       "\n",
       "#sk-container-id-1 a.estimator_doc_link {\n",
       "  float: right;\n",
       "  font-size: 1rem;\n",
       "  line-height: 1em;\n",
       "  font-family: monospace;\n",
       "  background-color: var(--sklearn-color-background);\n",
       "  border-radius: 1rem;\n",
       "  height: 1rem;\n",
       "  width: 1rem;\n",
       "  text-decoration: none;\n",
       "  /* unfitted */\n",
       "  color: var(--sklearn-color-unfitted-level-1);\n",
       "  border: var(--sklearn-color-unfitted-level-1) 1pt solid;\n",
       "}\n",
       "\n",
       "#sk-container-id-1 a.estimator_doc_link.fitted {\n",
       "  /* fitted */\n",
       "  border: var(--sklearn-color-fitted-level-1) 1pt solid;\n",
       "  color: var(--sklearn-color-fitted-level-1);\n",
       "}\n",
       "\n",
       "/* On hover */\n",
       "#sk-container-id-1 a.estimator_doc_link:hover {\n",
       "  /* unfitted */\n",
       "  background-color: var(--sklearn-color-unfitted-level-3);\n",
       "  color: var(--sklearn-color-background);\n",
       "  text-decoration: none;\n",
       "}\n",
       "\n",
       "#sk-container-id-1 a.estimator_doc_link.fitted:hover {\n",
       "  /* fitted */\n",
       "  background-color: var(--sklearn-color-fitted-level-3);\n",
       "}\n",
       "</style><div id=\"sk-container-id-1\" class=\"sk-top-container\"><div class=\"sk-text-repr-fallback\"><pre>RandomForestRegressor(random_state=42)</pre><b>In a Jupyter environment, please rerun this cell to show the HTML representation or trust the notebook. <br />On GitHub, the HTML representation is unable to render, please try loading this page with nbviewer.org.</b></div><div class=\"sk-container\" hidden><div class=\"sk-item\"><div class=\"sk-estimator fitted sk-toggleable\"><input class=\"sk-toggleable__control sk-hidden--visually\" id=\"sk-estimator-id-1\" type=\"checkbox\" checked><label for=\"sk-estimator-id-1\" class=\"sk-toggleable__label fitted sk-toggleable__label-arrow\"><div><div>RandomForestRegressor</div></div><div><a class=\"sk-estimator-doc-link fitted\" rel=\"noreferrer\" target=\"_blank\" href=\"https://scikit-learn.org/1.6/modules/generated/sklearn.ensemble.RandomForestRegressor.html\">?<span>Documentation for RandomForestRegressor</span></a><span class=\"sk-estimator-doc-link fitted\">i<span>Fitted</span></span></div></label><div class=\"sk-toggleable__content fitted\"><pre>RandomForestRegressor(random_state=42)</pre></div> </div></div></div></div>"
      ],
      "text/plain": [
       "RandomForestRegressor(random_state=42)"
      ]
     },
     "execution_count": 70,
     "metadata": {},
     "output_type": "execute_result"
    }
   ],
   "source": [
    "model.fit(X_train, y_train)"
   ]
  },
  {
   "cell_type": "markdown",
   "id": "379700a8",
   "metadata": {},
   "source": [
    "### Prediction anf Evaluation"
   ]
  },
  {
   "cell_type": "code",
   "execution_count": 71,
   "id": "5fd0c75f",
   "metadata": {},
   "outputs": [],
   "source": [
    "y_pred = model.predict(X_test)\n",
    "# r2_sccore approx 1 gives us perfecr model"
   ]
  },
  {
   "cell_type": "code",
   "execution_count": 73,
   "id": "55610d18",
   "metadata": {},
   "outputs": [
    {
     "name": "stdout",
     "output_type": "stream",
     "text": [
      "RMSE: 0.008846021324902682\n",
      "R² Score: 0.999248841731761\n"
     ]
    }
   ],
   "source": [
    "from sklearn.metrics import mean_squared_error, r2_score\n",
    "import numpy as np\n",
    "\n",
    "mse = mean_squared_error(y_test, y_pred)\n",
    "rmse = np.sqrt(mse)\n",
    "r2 = r2_score(y_test, y_pred)\n",
    "\n",
    "print(f'RMSE: {rmse}')\n",
    "print(f'R² Score: {r2}')"
   ]
  },
  {
   "cell_type": "markdown",
   "id": "7244584f",
   "metadata": {},
   "source": [
    "### Hyperparameter Tuning"
   ]
  },
  {
   "cell_type": "code",
   "execution_count": 76,
   "id": "4713412a",
   "metadata": {},
   "outputs": [
    {
     "name": "stdout",
     "output_type": "stream",
     "text": [
      "Best Parameters: {'max_depth': 10, 'min_samples_split': 5, 'n_estimators': 100}\n"
     ]
    }
   ],
   "source": [
    "# When the model performs very well on the training data we say that it is overfit\n",
    "from sklearn.model_selection import GridSearchCV\n",
    "\n",
    "param_grid = {\n",
    "    'n_estimators': [100, 200],\n",
    "    'max_depth': [None, 10, 20],\n",
    "    'min_samples_split': [2, 5]\n",
    "}\n",
    "\n",
    "grid_search = GridSearchCV(RandomForestRegressor(random_state=42), param_grid, cv=3, n_jobs=-1)\n",
    "grid_search.fit(X_train, y_train)\n",
    "\n",
    "best_model = grid_search.best_estimator_\n",
    "print(\"Best Parameters:\", grid_search.best_params_)\n"
   ]
  },
  {
   "cell_type": "markdown",
   "id": "c674cd2a",
   "metadata": {},
   "source": [
    "### Use best parameters for prediction"
   ]
  },
  {
   "cell_type": "code",
   "execution_count": 77,
   "id": "3df8f195",
   "metadata": {},
   "outputs": [
    {
     "name": "stdout",
     "output_type": "stream",
     "text": [
      "Final RMSE: 0.008694976772479728\n",
      "Final R²: 0.9992742745715877\n"
     ]
    }
   ],
   "source": [
    "y_pred_best = best_model.predict(X_test)\n",
    "\n",
    "print(\"Final RMSE:\", np.sqrt(mean_squared_error(y_test, y_pred_best)))\n",
    "print(\"Final R²:\", r2_score(y_test, y_pred_best))"
   ]
  },
  {
   "cell_type": "markdown",
   "id": "082db637",
   "metadata": {},
   "source": [
    "### Save model and encoders"
   ]
  },
  {
   "cell_type": "code",
   "execution_count": 51,
   "id": "d7d44dd7",
   "metadata": {},
   "outputs": [
    {
     "name": "stderr",
     "output_type": "stream",
     "text": [
      "A subdirectory or file models already exists.\n"
     ]
    }
   ],
   "source": [
    "!mkdir models"
   ]
  },
  {
   "cell_type": "code",
   "execution_count": 79,
   "id": "6745fad2",
   "metadata": {},
   "outputs": [
    {
     "data": {
      "text/plain": [
       "['models/scaler.pkl']"
      ]
     },
     "execution_count": 79,
     "metadata": {},
     "output_type": "execute_result"
    }
   ],
   "source": [
    "import os\n",
    "\n",
    "# Create directory if it doesn't exist\n",
    "os.makedirs('models', exist_ok=True)\n",
    "\n",
    "# Now save the model and scaler\n",
    "import joblib\n",
    "joblib.dump(best_model, 'models/final_model.pkl')\n",
    "joblib.dump(scaler, 'models/scaler.pkl')\n",
    "\n"
   ]
  },
  {
   "cell_type": "code",
   "execution_count": 80,
   "id": "f3d76340",
   "metadata": {},
   "outputs": [
    {
     "data": {
      "text/plain": [
       "Index(['Substance', 'Unit', 'Supply Chain Emission Factors without Margins',\n",
       "       'Margins of Supply Chain Emission Factors',\n",
       "       'DQ ReliabilityScore of Factors without Margins',\n",
       "       'DQ TemporalCorrelation of Factors without Margins',\n",
       "       'DQ GeographicalCorrelation of Factors without Margins',\n",
       "       'DQ TechnologicalCorrelation of Factors without Margins',\n",
       "       'DQ DataCollection of Factors without Margins', 'Source'],\n",
       "      dtype='object')"
      ]
     },
     "execution_count": 80,
     "metadata": {},
     "output_type": "execute_result"
    }
   ],
   "source": [
    "X.columns"
   ]
  },
  {
   "cell_type": "code",
   "execution_count": 81,
   "id": "57dbbfe7",
   "metadata": {},
   "outputs": [
    {
     "name": "stdout",
     "output_type": "stream",
     "text": [
      "Model files zipped successfully as 'models/model_archive.zip'\n"
     ]
    }
   ],
   "source": [
    "import zipfile\n",
    "import os\n",
    "\n",
    "# Files to include\n",
    "files_to_zip = ['models/final_model.pkl', 'models/scaler.pkl']\n",
    "\n",
    "# Create a ZIP file\n",
    "with zipfile.ZipFile('models/model_archive.zip', 'w') as zipf:\n",
    "    for file in files_to_zip:\n",
    "        zipf.write(file, os.path.basename(file))  # store without full path\n",
    "\n",
    "print(\"Model files zipped successfully as 'models/model_archive.zip'\")\n"
   ]
  },
  {
   "cell_type": "code",
   "execution_count": null,
   "id": "910015e0",
   "metadata": {},
   "outputs": [],
   "source": []
  }
 ],
 "metadata": {
  "kernelspec": {
   "display_name": "Python [conda env:base] *",
   "language": "python",
   "name": "conda-base-py"
  },
  "language_info": {
   "codemirror_mode": {
    "name": "ipython",
    "version": 3
   },
   "file_extension": ".py",
   "mimetype": "text/x-python",
   "name": "python",
   "nbconvert_exporter": "python",
   "pygments_lexer": "ipython3",
   "version": "3.13.5"
  }
 },
 "nbformat": 4,
 "nbformat_minor": 5
}
